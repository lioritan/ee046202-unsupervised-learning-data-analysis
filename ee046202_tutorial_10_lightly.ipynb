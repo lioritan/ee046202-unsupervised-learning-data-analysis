{
 "cells": [
  {
   "cell_type": "markdown",
   "id": "52e074dc",
   "metadata": {},
   "source": [
    "# <img src=\"https://img.icons8.com/dusk/64/000000/artificial-intelligence.png\" style=\"height:50px;display:inline\"> EE 046202 - Technion - Unsupervised Learning & Data Analysis\n",
    "---\n",
    "\n",
    "#### <a href=\"https://lioritan.github.io\">Lior Friedman</a>\n",
    "\n",
    "## Tutorial 10 - Contrastive Learning Continues"
   ]
  },
  {
   "cell_type": "markdown",
   "id": "e55f066e",
   "metadata": {},
   "source": [
    "### <img src=\"https://img.icons8.com/bubbles/50/000000/checklist.png\" style=\"height:50px;display:inline\"> Agenda\n",
    "---\n",
    "* [Bootstrap Your Own Latent (BYOL)](#-Bootstrap-Your-Own-Latent-(BYOL))\n",
    "* [Barlow Twins](#-Barlow-Twins)\n",
    "* [Lightly - implementing contrastive learning](#-Lightly---implementing-contrastive-learning)\n",
    "* [Recommended Videos](#-Recommended-Videos)\n",
    "* [Credits](#-Credits)"
   ]
  },
  {
   "cell_type": "code",
   "execution_count": 2,
   "id": "d079fffd",
   "metadata": {},
   "outputs": [],
   "source": [
    "# imports for the tutorial\n",
    "import numpy as np\n",
    "import pandas as pd\n",
    "import matplotlib.pyplot as plt\n",
    "\n",
    "%matplotlib notebook"
   ]
  },
  {
   "cell_type": "markdown",
   "id": "fa0eda58",
   "metadata": {},
   "source": [
    "### <img src=\"https://img.icons8.com/dusk/64/000000/paper.png\" style=\"height:50px;display:inline\">  Reminder: Contrastive learning\n",
    "---\n",
    "* Similar things should be close, giving low loss, and dissimilar things should be far.\n",
    "* Use augmentations to find positive samples (similar things).\n",
    "* <img src=\"./assets/selfsup_contrast_augs.png\" style=\"height:200px;\">\n",
    "* Contrastive loss: collect a batch of $N$ samples and use $N-1$ as negative samples each time.\n",
    "* <img src=\"./assets/selfsup_infonce_loss.png\" style=\"height:100px;\">"
   ]
  },
  {
   "cell_type": "markdown",
   "id": "70ec53de",
   "metadata": {},
   "source": [
    "### <img src=\"https://img.icons8.com/dusk/64/000000/mountain.png\" style=\"height:50px;display:inline\"> Bootstrap Your Own Latent (BYOL)\n",
    "---\n",
    "* <a href=\"https://arxiv.org/abs/2006.07733\">Bootstrap Your Own Latent (BYOL)</a> creates two views of the data and tries to predict one from the other.\n",
    "* Unlike previous contrastive methods **there are no negative samples**.\n",
    "* **TODO!!!!!**"
   ]
  },
  {
   "cell_type": "markdown",
   "id": "08839a63",
   "metadata": {},
   "source": [
    "### <img src=\"https://img.icons8.com/bubbles/50/000000/yin-yang.png\" style=\"height:50px;display:inline\"> Barlow Twins\n",
    "---\n",
    "* **TODO!!!** (Deep Canonical Correlation)"
   ]
  },
  {
   "cell_type": "markdown",
   "id": "31ade27e",
   "metadata": {},
   "source": [
    "### <img src=\"./assets/selfsup_lightly.png\" style=\"height:50px;display:inline\"> Lightly - implementing contrastive learning\n",
    "---\n",
    "* Lightly SSL is a computer vision framework for self-supervised learning. \n",
    "* Contains Pytorch-based implementations for many popular models, including everything we talked about.\n",
    "* **TODO**"
   ]
  },
  {
   "cell_type": "code",
   "execution_count": null,
   "id": "b5c42e94",
   "metadata": {},
   "outputs": [],
   "source": []
  },
  {
   "cell_type": "markdown",
   "id": "d5ca245c",
   "metadata": {},
   "source": [
    "### <img src=\"https://img.icons8.com/bubbles/50/000000/video-playlist.png\" style=\"height:50px;display:inline\"> Recommended Videos\n",
    "---\n",
    "#### <img src=\"https://img.icons8.com/cute-clipart/64/000000/warning-shield.png\" style=\"height:30px;display:inline\"> Warning!\n",
    "* These videos do not replace the lectures and tutorials.\n",
    "* Please use these to get a better understanding of the material, and not as an alternative to the written material.\n",
    "\n",
    "#### Video By Subject\n",
    "\n",
    "* "
   ]
  },
  {
   "cell_type": "markdown",
   "id": "94976441",
   "metadata": {},
   "source": [
    "## <img src=\"https://img.icons8.com/dusk/64/000000/prize.png\" style=\"height:50px;display:inline\"> Credits\n",
    "---\n",
    "* <a href=\"https://github.com/taldatech/ee046211-deep-learning/blob/main/ee046211_tutorial_09_self_supervised_representation_learning.ipynb\"> ee045211 - Deep Learning </a> @ Technion\n",
    "* <a href=\"https://lilianweng.github.io/posts/2021-05-31-contrastive/\"> Weng, Lilian. (May 2021). Contrastive representation learning. Lil’Log </a>\n",
    "* A Cookbook of Self-Supervised Learning, Balestriero et al. 2023\n",
    "* <a href=\"https://paperswithcode.com/method/byol\">Bootstrap Your Own Latent (BYOL)</a>\n",
    "* <a href=\"https://paperswithcode.com/method/barlow-twins\">Barlow Twins</a>"
   ]
  }
 ],
 "metadata": {
  "kernelspec": {
   "display_name": "Python 3 (ipykernel)",
   "language": "python",
   "name": "python3"
  },
  "language_info": {
   "codemirror_mode": {
    "name": "ipython",
    "version": 3
   },
   "file_extension": ".py",
   "mimetype": "text/x-python",
   "name": "python",
   "nbconvert_exporter": "python",
   "pygments_lexer": "ipython3",
   "version": "3.8.5"
  }
 },
 "nbformat": 4,
 "nbformat_minor": 5
}
