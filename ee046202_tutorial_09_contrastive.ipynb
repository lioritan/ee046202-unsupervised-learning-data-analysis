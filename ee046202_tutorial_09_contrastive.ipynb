{
 "cells": [
  {
   "cell_type": "markdown",
   "id": "75b8591f",
   "metadata": {},
   "source": [
    "# <img src=\"https://img.icons8.com/dusk/64/000000/artificial-intelligence.png\" style=\"height:50px;display:inline\"> EE 046202 - Technion - Unsupervised Learning & Data Analysis\n",
    "---\n",
    "\n",
    "#### <a href=\"https://lioritan.github.io\">Lior Friedman</a>\n",
    "\n",
    "## Tutorial 08 - Contrastive Learning - SimCLR"
   ]
  },
  {
   "cell_type": "markdown",
   "id": "64ba5b1d",
   "metadata": {},
   "source": [
    "### <img src=\"https://img.icons8.com/bubbles/50/000000/checklist.png\" style=\"height:50px;display:inline\"> Agenda\n",
    "---\n",
    "* [Self-supervised Learning in general]\n",
    "* [Contrastive Learning](#-fff)\n",
    "    * [Loss Functions](#-fff)\n",
    "    * [InfoNCE]\n",
    "    * [NT-Xent]\n",
    "* [InfoNCE theory - ELBO-style bound](#-elb)\n",
    "* [SimCLR](#-d)\n",
    "    * [Idea](#-s)\n",
    "    * [Implementation - lightly](#-code)\n",
    "    * [Demo](#-dd)\n",
    "* [Other contrastive methods]\n",
    "    * [MoCo](#-df)\n",
    "    * [BYOL](#-d)\n",
    "    * [CLIP](#-yo)\n",
    "* [Recommended Videos](#-Recommended-Videos)\n",
    "* [Credits](#-Credits)"
   ]
  },
  {
   "cell_type": "code",
   "execution_count": 1,
   "id": "f92b85ec",
   "metadata": {},
   "outputs": [],
   "source": [
    "# imports for the tutorial\n",
    "import numpy as np\n",
    "import pandas as pd\n",
    "import matplotlib.pyplot as plt\n",
    "\n",
    "%matplotlib notebook"
   ]
  },
  {
   "cell_type": "code",
   "execution_count": null,
   "id": "6714956a",
   "metadata": {},
   "outputs": [],
   "source": []
  }
 ],
 "metadata": {
  "kernelspec": {
   "display_name": "Python 3 (ipykernel)",
   "language": "python",
   "name": "python3"
  },
  "language_info": {
   "codemirror_mode": {
    "name": "ipython",
    "version": 3
   },
   "file_extension": ".py",
   "mimetype": "text/x-python",
   "name": "python",
   "nbconvert_exporter": "python",
   "pygments_lexer": "ipython3",
   "version": "3.8.5"
  }
 },
 "nbformat": 4,
 "nbformat_minor": 5
}
