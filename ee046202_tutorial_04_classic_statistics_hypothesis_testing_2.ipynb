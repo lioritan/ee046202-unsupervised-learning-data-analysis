{
 "cells": [
  {
   "cell_type": "markdown",
   "metadata": {
    "slideshow": {
     "slide_type": "slide"
    }
   },
   "source": [
    "# <img src=\"https://img.icons8.com/dusk/64/000000/artificial-intelligence.png\" style=\"height:50px;display:inline\"> EE 046202 - Technion - Unsupervised Learning & Data Analysis\n",
    "---\n",
    "\n",
    "#### <a href=\"https://taldatech.github.io\">Tal Daniel</a>\n",
    "\n",
    "## Tutorial 04 - Classical Methods in Statistical Inference - Hypothesis Testing 2\n",
    "---"
   ]
  },
  {
   "cell_type": "markdown",
   "metadata": {
    "slideshow": {
     "slide_type": "subslide"
    }
   },
   "source": [
    "### <img src=\"https://img.icons8.com/bubbles/100/000000/checklist.png\" style=\"height:50px;display:inline\"> Agenda\n",
    "---\n",
    "* [Recap](#-Recap)\n",
    "* [T-Test](#-T-Test-(Hypothesis-Testing-of-Gaussian-with-Unknown-Mean-and-Variance))\n",
    "    * [ Exercise - Statistics for Machine Learning](#-Exercise---Statistics-for-Machine-Learning)\n",
    "* [Pearsons's Chi-Squared ($\\chi^2$) Test](#-Pearson's-Chi-Squared-($\\chi^2$)-Test)\n",
    "* [Uniformly Most Powerful (UMP) Test](#-Uniformly-Most-Powerful-Test-(UMP))\n",
    "* [Which Statistical Test To Use???](#-Which-Statistical-Test-To-Use???)\n",
    "* [Recommended Videos](#-Recommended-Videos)\n",
    "* [Credits](#-Credits)"
   ]
  },
  {
   "cell_type": "code",
   "execution_count": 1,
   "metadata": {
    "slideshow": {
     "slide_type": "skip"
    }
   },
   "outputs": [],
   "source": [
    "# imports for the tutorial\n",
    "import numpy as np\n",
    "import pandas as pd\n",
    "from scipy.stats import t as t_dist\n",
    "from scipy.stats import chi2\n",
    "import matplotlib.pyplot as plt\n",
    "%matplotlib notebook"
   ]
  },
  {
   "cell_type": "markdown",
   "metadata": {
    "slideshow": {
     "slide_type": "slide"
    }
   },
   "source": [
    "## <img src=\"https://img.icons8.com/dusk/64/000000/rewind.png\" style=\"height:50px;display:inline\"> Recap\n",
    "---\n",
    "In the previous tutorial we described the framework of Hypothesis Testing. Following is a recap of some of the definitions and a brief summmary:\n",
    "\n",
    "* **1. Null & Alternative Hypotheses** -  Formulate the null hypothesis $H_0$: $\\theta \\in \\Theta_0$ (that the observations are the result of pure chance) and the alternative hypothesis $H_1$: $\\theta \\in \\Theta_1$ (that the observations show a real effect combined with a component of chance variation).\n",
    "* **2. Test Statistic** - Identify a test statistic that can be used to assess the truth of the null hypothesis. It is a value computed from sample data. The test statistic is used to assess the strength of evidence in support of a null hypothesis.\n",
    "    * A **statistic** is a real-valued function of the data. For example, the sample mean: $W(X_1, X_2,..., X_n)= \\frac{X_1 + X_2 + ... + X_n}{n}$ is a statistic.\n",
    "    * A **test satistic** is a statistic on we which we build our test.\n",
    "    * **Acceptence Region** $A$ - A *set* $A \\subset \\mathbb{R}$ is defined to be the set of all possible values of the test statistic for which we accept $H_0$.\n",
    "    * **Rejection Region** $R$ - A *set*  $R = \\mathbb{R} - A$ is defined to be the set of all possible values of the test statistic for which we reject $H_0$ and accept $H_1$. "
   ]
  },
  {
   "cell_type": "markdown",
   "metadata": {
    "slideshow": {
     "slide_type": "subslide"
    }
   },
   "source": [
    "* **3. P-value & Interpretation** - Compute the P-value, which is the probability that a test statistic, at least as significant as the one observed, would be obtained assuming that the null hypothesis were true. The smaller the P-value, the stronger the evidence **against** the null hypothesis.\n",
    "\n",
    "* **4. Significance Level** - Compare the p-value to an acceptable significance value $\\alpha$ (sometimes called an $\\alpha$ value, a probability threshold below which the null hypothesis will be rejected. Common values are 5% and 1%.). If $p \\leq \\alpha$ (the observed effect is statistically significant), the null hypothesis is ruled out, and the alternative hypothesis is valid.\n",
    "    * Commonly used p-values:\n",
    "\n",
    "|<center> P-Value &nbsp; &nbsp; &nbsp; &nbsp; &nbsp; &nbsp; &nbsp; &nbsp; &nbsp; &nbsp; </center> |<center> Wording </center>|\n",
    "| -----------------------------------------| --------------- |\n",
    "|<center> $p > 0.05$ </center>| <center> Not Significant </center>|\n",
    "|<center> $0.01 \\leq p \\leq 0.05$ </center>|<center> Significant</center>|\n",
    "|<center> $0.001 \\leq p < 0.01$</center>| <center> Very Significant </center>|\n",
    "|<center> $p < 0.001$</center>| <center> Extremely Significant </center>|"
   ]
  },
  {
   "cell_type": "markdown",
   "metadata": {
    "slideshow": {
     "slide_type": "subslide"
    }
   },
   "source": [
    "#### Error Types\n",
    "---\n",
    "\n",
    "\n",
    "* **Type I Error (False Positive)** -  the incorrect rejection of a true null hypothesis. Usually a type I error leads one to conclude that a supposed effect or relationship exists when in fact it doesn't. \n",
    "    * For example, a test that shows a patient to have a disease when in fact the patient does not have the disease, a fire alarm going on indicating a fire when in fact there is no fire, or an experiment indicating that a medical treatment should cure a disease when in fact it does not.\n",
    "    * The chance of **rejecting the null hypthesis $H_0$, when it is TRUE**, denoted by $\\alpha$\n",
    "    * $\\rightarrow$ the chance of **accepting the null hypthesis $H_0$, when it is TRUE** is $1 - \\alpha$\n",
    "    * Formally:\n",
    "        * Denote a *test statistic* as $W$\n",
    "        * $P(\\text{Type 1 Error} | \\theta) = P(\\text{Reject } H_0|\\theta) = P(W \\in R | \\theta), \\theta \\in \\Theta_0$\n",
    "            * If $P(\\text{Type 1 Error} | \\theta) \\leq \\alpha, \\forall \\theta \\in \\Theta_0$, we say that the test has **significance level** $\\alpha$.\n"
   ]
  },
  {
   "cell_type": "markdown",
   "metadata": {
    "slideshow": {
     "slide_type": "subslide"
    }
   },
   "source": [
    "   * **Type II Error (False Negative)** - the failure to reject a false null hypothesis.\n",
    "      * For example, a blood test failing to detect the disease it was designed to detect, in a patient who really has the disease; a fire breaking out and the fire alarm does not ring; or a clinical trial of a medical treatment failing to show that the treatment works when really it does.\n",
    "      * The chance of **not rejecting the null hypothesis $H_0$, when it is FALSE**, denoted by $\\beta$\n",
    "      * $\\rightarrow$ the chance of **rejecting the null hypthesis $H_0$, when it is FALSE** is $1 - \\beta$ (also called **power**)\n",
    "      * Since the alternative hypothesis, $H_1$, usually contains more than one value of $\\theta$, the probability of type II error is usually a **function of $\\theta$**, and denoted by $\\beta$.\n",
    "      * Formally: $\\beta(\\theta) = P(\\text{Accept } H_0 | \\theta), \\text{ for } \\theta \\in \\Theta_1$"
   ]
  },
  {
   "cell_type": "markdown",
   "metadata": {
    "slideshow": {
     "slide_type": "slide"
    }
   },
   "source": [
    "\n",
    "#### When To Use What:\n",
    "\n",
    "* 2-sided hypothesis testing for the mean: $H_0: \\mu=\\mu_0, H_1: \\mu \\neq \\mu_0$\n",
    "\n",
    "| <center>Case </center>  | Test Statistic | Acceptance Region |\n",
    "| ------ | --- | --- |\n",
    "| $X_i \\sim \\mathcal{N}(\\mu, \\sigma)$, $\\sigma$ **known** &nbsp;&nbsp;&nbsp;&nbsp;&nbsp;&nbsp;&nbsp;&nbsp;&nbsp;&nbsp;&nbsp;&nbsp;&nbsp;&nbsp;| $W = \\frac{\\overline{X}  -\\mu_0}{\\frac{\\sigma}{\\sqrt{n}}}$| $\\mid W \\mid \\leq z_{\\frac{\\alpha}{2}} $  |\n",
    "|$n$ large, $X_i$ non-normal &nbsp;&nbsp;&nbsp;&nbsp;&nbsp;&nbsp;&nbsp;&nbsp;&nbsp;&nbsp;&nbsp;&nbsp;&nbsp;&nbsp;&nbsp;| $W = \\frac{\\overline{X}  -\\mu_0}{\\frac{S}{\\sqrt{n}}}$| $\\mid W\\mid \\leq z_{\\frac{\\alpha}{2}} $  |\n"
   ]
  },
  {
   "cell_type": "markdown",
   "metadata": {
    "slideshow": {
     "slide_type": "subslide"
    }
   },
   "source": [
    "* 1-sided hypothesis testing for the mean: $H_0: \\mu \\leq \\mu_0, H_1: \\mu > \\mu_0$\n",
    "\n",
    "| <center>Case </center>  | Test Statistic | Acceptance Region |\n",
    "| ------ | --- | --- |\n",
    "| $X_i \\sim \\mathcal{N}(\\mu, \\sigma)$, $\\sigma$ **known** &nbsp;&nbsp;&nbsp;&nbsp;&nbsp;&nbsp;&nbsp;&nbsp;&nbsp;&nbsp;&nbsp;&nbsp;&nbsp;&nbsp;| $W = \\frac{\\overline{X}  -\\mu_0}{\\frac{\\sigma}{\\sqrt{n}}}$| $W \\leq z_{\\alpha} $  |\n",
    "|$n$ large, $X_i$ non-normal &nbsp;&nbsp;&nbsp;&nbsp;&nbsp;&nbsp;&nbsp;&nbsp;&nbsp;&nbsp;&nbsp;&nbsp;&nbsp;&nbsp;&nbsp;| $W = \\frac{\\overline{X}  -\\mu_0}{\\frac{S}{\\sqrt{n}}}$| $W \\leq z_{\\alpha} $  |\n",
    "\n",
    "* The only difference is the *absolute* sign on $W$.\n",
    "\n",
    "All expansions can be found <a href=\"https://www.probabilitycourse.com/chapter8/8_4_3_hypothesis_testing_for_mean.php\">HERE</a>."
   ]
  },
  {
   "cell_type": "markdown",
   "metadata": {
    "slideshow": {
     "slide_type": "slide"
    }
   },
   "source": [
    "#### <img src=\"https://img.icons8.com/dusk/64/000000/task.png\" style=\"height:30px;display:inline\"> Exercise - How Much Protein Does a Tuna Fish Contain?\n",
    "---\n",
    "* Note: this is for all of you who work out :)\n",
    "\n",
    "Assume that the amount of protein in a Tuna-can is a Gaussian random variable with std $\\sigma=2.5$ grams (that is, the variance is *known*) and *unknown* expectation $\\mu$. We are interested in the following hypothesis: $$ H_0: \\mu=30 $$ $$ H_1 : \\mu=32 $$"
   ]
  },
  {
   "cell_type": "markdown",
   "metadata": {
    "slideshow": {
     "slide_type": "subslide"
    }
   },
   "source": [
    "1. The following test is proposed: take 16 random cans (samples are i.i.d.), if the mean is greater than 30.8 grams, reject $H_0$. What is the probability of type 1 error? What is the probability of type 2 error?\n",
    "2. We decided to use a different test: reject $H_0$ in case $\\overline{X}_n > 31.3$. Can you say if type 1 or 2 error probabilities will increase or decrease without further computations?"
   ]
  },
  {
   "cell_type": "markdown",
   "metadata": {
    "slideshow": {
     "slide_type": "subslide"
    }
   },
   "source": [
    "#### <img src=\"https://img.icons8.com/dusk/64/000000/idea.png\" style=\"height:30px;display:inline\"> Solution\n",
    "---\n",
    "#### Section 1\n",
    "---\n",
    "#### Q: The following test is proposed: take 16 random cans (samples are i.i.d.), if the mean is greater than 30.8 grams, reject $H_0$. What is the probability of type 1 error? What is the probability of type 2 error?\n",
    "---\n",
    "Since each sample is Gaussian, and the samples are i.i.d., the empirical average $\\overline{X}_n$ of 16 samples is also Gaussian, with the **same** mean, and std of $\\frac{\\sigma}{\\sqrt{16}}$: $$ \\overline{X}_n \\sim \\mathcal{N} (\\mu, \\frac{2.5^2}{16}) $$ (Z-test)\n",
    "\n",
    "* **Type-1-error** (False Positive) $ = P_{H_0}(\\overline{X}_n > 30.8) =\\alpha$ $$ = P(\\frac{\\overline{X}_n-\\mu_{H_0}}{2.5 / \\sqrt{16}} > \\frac{30.8 - \\mu_{H_0}}{2.5 / \\sqrt{16}})$$ $$ = P(\\frac{\\overline{X}_n-30}{2.5 / \\sqrt{16}} > \\frac{30.8 - 30}{2.5 / \\sqrt{16}})$$ $$ = P(Z>1.28) = 1 - P(Z <1.28) = 1 - \\Phi(1.28) = 0.1 $$\n",
    "    * $\\Phi(x) = \\frac{1}{\\sqrt{2\\pi}}\\int_{-\\infty}^x \\exp(\\frac{-x^2}{2})dx$\n",
    "    * <a href=\"https://en.wikipedia.org/wiki/Standard_normal_table#Cumulative\">Comulative distribution function of a standard normal distribution</a>"
   ]
  },
  {
   "cell_type": "markdown",
   "metadata": {
    "slideshow": {
     "slide_type": "subslide"
    }
   },
   "source": [
    "* **Type-2-error** (False Negative) $=P_{H_1}(\\overline{X}_n \\leq 30.8)$ $$ =P(\\frac{\\overline{X}_n-\\mu_{H_1}}{2.5 / \\sqrt{16}} \\leq \\frac{30.8 - \\mu_{H_1}}{2.5 / \\sqrt{16}}) $$ $$ = P(\\frac{\\overline{X}_n-32}{2.5 / \\sqrt{16}} \\leq \\frac{30.8 - 32}{2.5 / \\sqrt{16}}) $$ $$ = P(Z \\geq 1.92) = 1 -  P(Z \\leq 1.92) = 1 - \\Phi(1.92) = 0.0274 $$"
   ]
  },
  {
   "cell_type": "markdown",
   "metadata": {
    "slideshow": {
     "slide_type": "subslide"
    }
   },
   "source": [
    "#### Section 2    \n",
    "---\n",
    "#### Q: We decided to use a different test: reject $H_0$ in case $\\overline{X}_n > 31.3$. Can you say if type 1 or 2 error probabilities will increase or decrease without further computations?\n",
    "---\n",
    "We increased the threshold, such that it less likely to reject $H_0$. That is, the event in which $H_0$ is true, and we reject it is more rare. This means that type-1 error must *decrease*, i.e, we will make less False-Positive mistakes. However, the event in which we accept $H_0$ while $H_1$ is true is **more likely** (notice the trade-off between the error types). This means that the type-2 error must increase, and we will make more False-Negative mistakes.\n",
    "This demnostrates the inherent **trade-off** between type-1 and type-2 errors."
   ]
  },
  {
   "cell_type": "markdown",
   "metadata": {
    "slideshow": {
     "slide_type": "slide"
    }
   },
   "source": [
    "## <img src=\"https://img.icons8.com/dusk/64/000000/t.png\" style=\"height:50px;display:inline\"> T-Test (Hypothesis Testing of Gaussian with Unknown Mean and Variance)\n",
    "---\n",
    "* The $t$-test deals with the scenario where both the mean and variance are unknown.\n",
    "    * It is possible to use $z$-test, however, it is sometimes better to do $t$-test for this case.\n",
    "* It is based on **student-t** distribution, which is a heavy-tail distribution.\n",
    "    * Note that although the student-t distribution may look like a Gaussian, it is different (in the limit of degrees of freedom $\\to \\infty$, student-t approaches Normal distribution). \n",
    "* Assume we are given data $\\{X_i\\}_{i=1}^N$, where $X_i \\sim \\mathcal{N}(\\mu, \\sigma^2)$. Both $\\mu$ and $\\sigma^2$ are unknown.\n",
    "* Let the empirical mean and variance be: $$ \\overline{X}_N = \\frac{1}{N}\\sum_{i=1}^N X_i $$ $$ \\overline{\\sigma}_N^2 = \\frac{1}{N-1} \\sum_{i=1}^N (X_i -\\overline{X}_N)^2 $$"
   ]
  },
  {
   "cell_type": "markdown",
   "metadata": {
    "slideshow": {
     "slide_type": "subslide"
    }
   },
   "source": [
    "* Student-t PDF:\n",
    "\n",
    "<img src=\"./assets/student_t.png\" style=\"height:250px\">\n",
    "\n",
    "* Image Credits: <a href=\"https://commons.wikimedia.org/w/index.php?curid=9546828\">By Skbkekas - Own work, CC BY 3.0</a>"
   ]
  },
  {
   "cell_type": "markdown",
   "metadata": {
    "slideshow": {
     "slide_type": "subslide"
    }
   },
   "source": [
    "* Assume we wish to test the following 2-sided null and alternative hypotheses given the data: $$ H_0: \\mu = \\mu' $$ $$ H_1 : \\mu \\neq \\mu' $$\n",
    "* The $t$-test statistic is defined by: $$ t=\\frac{\\overline{X}_N - \\mu'}{ \\frac{\\overline{\\sigma}_N}{\\sqrt{N}} } $$\n",
    "    * The $t$-test is $|t| < C$, that is, we **reject** $H_0$ if $|t| \\geq C$"
   ]
  },
  {
   "cell_type": "markdown",
   "metadata": {
    "slideshow": {
     "slide_type": "subslide"
    }
   },
   "source": [
    "In general, there are three possible alternative hypotheses and rejection regions:\n",
    "\n",
    "|**Alternative Hytpothesis** | **Rejection Region**|\n",
    "|----------------------------|---------------------|\n",
    "|<center>$H_a: \\mu_1 \\neq \\mu_2$</center>    | <center>$\\mid T \\mid > t_{n-1, 1-\\frac{\\alpha}{2}}$ </center>|\n",
    "|<center>$H_a: \\mu_1 > \\mu_2$</center>    | <center>$T > t_{n-1, 1-\\alpha}$ </center>|\n",
    "|<center>$H_a: \\mu_1 < \\mu_2$</center>    | <center>$T < t_{n-1, \\alpha}$ </center>|\n",
    "\n",
    "<a href=\"https://www.itl.nist.gov/div898/handbook/eda/section3/eda353.htm\">More Details</a>"
   ]
  },
  {
   "cell_type": "markdown",
   "metadata": {
    "slideshow": {
     "slide_type": "slide"
    }
   },
   "source": [
    "#### <img src=\"https://img.icons8.com/dusk/64/000000/task.png\" style=\"height:30px;display:inline\"> Exercise - Statistics for Machine Learning\n",
    "---\n",
    "In this exercise we will use the $t$-test to estimate the performance of two classifiers on a single domain. The data is taken from \"Evaluating Learning Algorithms - A Classification Perspective\", N.Japkowicz, M.Shah.\n",
    "* **Preview**: Two data samples are matched if they come from repeated observation of the same subject. Given two types of samples, we want to test whether the difference in means between these two samples is *significant*. One way of doing so is by looking at the difference in observed means and standard deviations (the first and second moments of the samples) between these two samples.\n",
    "* In **classification** problems, we often try out different classifiers (which are the output of different learning algorithms) and check their performance. Eventually, we wish to choose the best classifier (the one with the lowest classification error)."
   ]
  },
  {
   "cell_type": "markdown",
   "metadata": {
    "slideshow": {
     "slide_type": "subslide"
    }
   },
   "source": [
    "* Consider two classifiers and their performance on the data. **How can we tell if one is better than the other?**\n",
    "* The null hypothesis, $H_0$, will be that the classifiers are equivalent and we will see if we can reject $H_0$.\n",
    "* Let $\\mathcal{X}, \\mathcal{Y}$ be the feature space and the label space accordingly. Let $f: \\mathcal{X} \\to \\mathcal{Y}$ be a classifier. Denote the validation data (the data on which is not seen during training, but is used to tune the hyper-parameters of the algorithms) as $\\mathcal{D} = \\{x_i, y_i\\}_{i=1}^n$.\n",
    "* Define our **performance measure** (pm): $$ pm_i(f) = \\begin{cases} 1, \\quad f \\text{ classified incorrectly } x_i \\\\ 0, \\quad \\text{otherwise} \\end{cases} $$ \n",
    "    * Note that it is actually the error (\"...**incorrectly**...\").\n",
    "* The *average* performance measure of $f$: $$ \\overline{pm}(f) = \\frac{1}{n}\\sum_{i=1}^n pm_i(f) $$"
   ]
  },
  {
   "cell_type": "markdown",
   "metadata": {
    "slideshow": {
     "slide_type": "subslide"
    }
   },
   "source": [
    "* Performance *difference* measures of two classifier $f_1$ and $f_2$: $$ d_i = pm_i(f_1) - pm_i(f_2) $$ $$ \\overline{d} = \\overline{pm}(f_1) - \\overline{pm}(f_2) $$\n",
    "* Define the t-statistics (as we do not know the mean nor the std): $$ t = \\frac{\\overline{d} - 0}{\\tilde{\\sigma}_d / \\sqrt{n}} $$\n",
    "    * $\\tilde{\\sigma}_d^2 = \\frac{1}{n-1} \\sum_{i=1}^n (d_i -  \\overline{d})^2$\n",
    "    * Recall that our null hypothesis, $H_0$ is that the classifiers are equivalent, thus, the expected difference between their performance mesures is 0.\n",
    "    \n",
    "* The data: performance measures of 10 cross-validation sets on some given data. The algorithms were repeated for 10 trials, and the performance was measured in each case. The values are *emprical risks* - the error.\n"
   ]
  },
  {
   "cell_type": "code",
   "execution_count": 2,
   "metadata": {
    "slideshow": {
     "slide_type": "subslide"
    }
   },
   "outputs": [
    {
     "data": {
      "text/html": [
       "<div>\n",
       "<style scoped>\n",
       "    .dataframe tbody tr th:only-of-type {\n",
       "        vertical-align: middle;\n",
       "    }\n",
       "\n",
       "    .dataframe tbody tr th {\n",
       "        vertical-align: top;\n",
       "    }\n",
       "\n",
       "    .dataframe thead th {\n",
       "        text-align: right;\n",
       "    }\n",
       "</style>\n",
       "<table border=\"1\" class=\"dataframe\">\n",
       "  <thead>\n",
       "    <tr style=\"text-align: right;\">\n",
       "      <th></th>\n",
       "      <th>Trial No.</th>\n",
       "      <th>Classifiers</th>\n",
       "      <th>f1</th>\n",
       "      <th>f2</th>\n",
       "      <th>f3</th>\n",
       "      <th>f4</th>\n",
       "      <th>f5</th>\n",
       "      <th>f6</th>\n",
       "      <th>f7</th>\n",
       "      <th>f8</th>\n",
       "      <th>f9</th>\n",
       "      <th>f10</th>\n",
       "    </tr>\n",
       "  </thead>\n",
       "  <tbody>\n",
       "    <tr>\n",
       "      <td>0</td>\n",
       "      <td>1</td>\n",
       "      <td>c4.5</td>\n",
       "      <td>0.5000</td>\n",
       "      <td>0.0000</td>\n",
       "      <td>0.3333</td>\n",
       "      <td>0.0000</td>\n",
       "      <td>0.3333</td>\n",
       "      <td>0.3333</td>\n",
       "      <td>0.3333</td>\n",
       "      <td>0.2</td>\n",
       "      <td>0.2</td>\n",
       "      <td>0.2</td>\n",
       "    </tr>\n",
       "    <tr>\n",
       "      <td>1</td>\n",
       "      <td>1</td>\n",
       "      <td>RIP</td>\n",
       "      <td>0.3333</td>\n",
       "      <td>0.5000</td>\n",
       "      <td>0.0000</td>\n",
       "      <td>0.0000</td>\n",
       "      <td>0.3333</td>\n",
       "      <td>0.5000</td>\n",
       "      <td>0.1667</td>\n",
       "      <td>0.0</td>\n",
       "      <td>0.2</td>\n",
       "      <td>0.0</td>\n",
       "    </tr>\n",
       "    <tr>\n",
       "      <td>2</td>\n",
       "      <td>1</td>\n",
       "      <td>NB</td>\n",
       "      <td>0.1667</td>\n",
       "      <td>0.0000</td>\n",
       "      <td>0.0000</td>\n",
       "      <td>0.0000</td>\n",
       "      <td>0.0000</td>\n",
       "      <td>0.1667</td>\n",
       "      <td>0.0000</td>\n",
       "      <td>0.4</td>\n",
       "      <td>0.0</td>\n",
       "      <td>0.0</td>\n",
       "    </tr>\n",
       "    <tr>\n",
       "      <td>3</td>\n",
       "      <td>2</td>\n",
       "      <td>c4.5</td>\n",
       "      <td>0.3333</td>\n",
       "      <td>0.1667</td>\n",
       "      <td>0.1667</td>\n",
       "      <td>0.3333</td>\n",
       "      <td>0.3333</td>\n",
       "      <td>0.0000</td>\n",
       "      <td>0.0000</td>\n",
       "      <td>0.0</td>\n",
       "      <td>0.2</td>\n",
       "      <td>0.2</td>\n",
       "    </tr>\n",
       "    <tr>\n",
       "      <td>4</td>\n",
       "      <td>2</td>\n",
       "      <td>RIP</td>\n",
       "      <td>0.3333</td>\n",
       "      <td>0.1667</td>\n",
       "      <td>0.0000</td>\n",
       "      <td>0.0000</td>\n",
       "      <td>0.3333</td>\n",
       "      <td>0.1667</td>\n",
       "      <td>0.0000</td>\n",
       "      <td>0.2</td>\n",
       "      <td>0.2</td>\n",
       "      <td>0.0</td>\n",
       "    </tr>\n",
       "    <tr>\n",
       "      <td>5</td>\n",
       "      <td>2</td>\n",
       "      <td>NB</td>\n",
       "      <td>0.3333</td>\n",
       "      <td>0.0000</td>\n",
       "      <td>0.1667</td>\n",
       "      <td>0.1667</td>\n",
       "      <td>0.0000</td>\n",
       "      <td>0.0000</td>\n",
       "      <td>0.0000</td>\n",
       "      <td>0.0</td>\n",
       "      <td>0.0</td>\n",
       "      <td>0.0</td>\n",
       "    </tr>\n",
       "    <tr>\n",
       "      <td>6</td>\n",
       "      <td>3</td>\n",
       "      <td>c4.5</td>\n",
       "      <td>0.0000</td>\n",
       "      <td>0.0000</td>\n",
       "      <td>0.3333</td>\n",
       "      <td>0.3333</td>\n",
       "      <td>0.1667</td>\n",
       "      <td>0.3333</td>\n",
       "      <td>0.1667</td>\n",
       "      <td>0.0</td>\n",
       "      <td>0.2</td>\n",
       "      <td>0.2</td>\n",
       "    </tr>\n",
       "    <tr>\n",
       "      <td>7</td>\n",
       "      <td>3</td>\n",
       "      <td>RIP</td>\n",
       "      <td>0.0000</td>\n",
       "      <td>0.0000</td>\n",
       "      <td>0.1667</td>\n",
       "      <td>0.3333</td>\n",
       "      <td>0.1667</td>\n",
       "      <td>0.1667</td>\n",
       "      <td>0.1667</td>\n",
       "      <td>0.2</td>\n",
       "      <td>0.4</td>\n",
       "      <td>0.2</td>\n",
       "    </tr>\n",
       "    <tr>\n",
       "      <td>8</td>\n",
       "      <td>3</td>\n",
       "      <td>NB</td>\n",
       "      <td>0.0000</td>\n",
       "      <td>0.0000</td>\n",
       "      <td>0.0000</td>\n",
       "      <td>0.0000</td>\n",
       "      <td>0.0000</td>\n",
       "      <td>0.1667</td>\n",
       "      <td>0.0000</td>\n",
       "      <td>0.0</td>\n",
       "      <td>0.0</td>\n",
       "      <td>0.0</td>\n",
       "    </tr>\n",
       "    <tr>\n",
       "      <td>9</td>\n",
       "      <td>4</td>\n",
       "      <td>c4.5</td>\n",
       "      <td>0.5000</td>\n",
       "      <td>0.1667</td>\n",
       "      <td>0.3333</td>\n",
       "      <td>0.1667</td>\n",
       "      <td>0.0000</td>\n",
       "      <td>0.1667</td>\n",
       "      <td>0.5000</td>\n",
       "      <td>0.2</td>\n",
       "      <td>0.2</td>\n",
       "      <td>0.4</td>\n",
       "    </tr>\n",
       "    <tr>\n",
       "      <td>10</td>\n",
       "      <td>4</td>\n",
       "      <td>RIP</td>\n",
       "      <td>0.3333</td>\n",
       "      <td>0.0000</td>\n",
       "      <td>0.1667</td>\n",
       "      <td>0.1667</td>\n",
       "      <td>0.1667</td>\n",
       "      <td>0.0000</td>\n",
       "      <td>0.6667</td>\n",
       "      <td>0.2</td>\n",
       "      <td>0.2</td>\n",
       "      <td>0.2</td>\n",
       "    </tr>\n",
       "    <tr>\n",
       "      <td>11</td>\n",
       "      <td>4</td>\n",
       "      <td>NB</td>\n",
       "      <td>0.3333</td>\n",
       "      <td>0.0000</td>\n",
       "      <td>0.0000</td>\n",
       "      <td>0.1667</td>\n",
       "      <td>0.0000</td>\n",
       "      <td>0.0000</td>\n",
       "      <td>0.0000</td>\n",
       "      <td>0.0</td>\n",
       "      <td>0.0</td>\n",
       "      <td>0.2</td>\n",
       "    </tr>\n",
       "    <tr>\n",
       "      <td>12</td>\n",
       "      <td>5</td>\n",
       "      <td>c4.5</td>\n",
       "      <td>0.0000</td>\n",
       "      <td>0.1667</td>\n",
       "      <td>0.3333</td>\n",
       "      <td>0.1667</td>\n",
       "      <td>0.0000</td>\n",
       "      <td>0.1667</td>\n",
       "      <td>0.0000</td>\n",
       "      <td>0.2</td>\n",
       "      <td>0.4</td>\n",
       "      <td>0.2</td>\n",
       "    </tr>\n",
       "    <tr>\n",
       "      <td>13</td>\n",
       "      <td>5</td>\n",
       "      <td>RIP</td>\n",
       "      <td>0.3333</td>\n",
       "      <td>0.1667</td>\n",
       "      <td>0.1667</td>\n",
       "      <td>0.1667</td>\n",
       "      <td>0.0000</td>\n",
       "      <td>0.1667</td>\n",
       "      <td>0.0000</td>\n",
       "      <td>0.4</td>\n",
       "      <td>0.0</td>\n",
       "      <td>0.2</td>\n",
       "    </tr>\n",
       "    <tr>\n",
       "      <td>14</td>\n",
       "      <td>5</td>\n",
       "      <td>NB</td>\n",
       "      <td>0.0000</td>\n",
       "      <td>0.1667</td>\n",
       "      <td>0.0000</td>\n",
       "      <td>0.0000</td>\n",
       "      <td>0.1667</td>\n",
       "      <td>0.0000</td>\n",
       "      <td>0.0000</td>\n",
       "      <td>0.0</td>\n",
       "      <td>0.0</td>\n",
       "      <td>0.4</td>\n",
       "    </tr>\n",
       "    <tr>\n",
       "      <td>15</td>\n",
       "      <td>6</td>\n",
       "      <td>c4.5</td>\n",
       "      <td>0.3333</td>\n",
       "      <td>0.1667</td>\n",
       "      <td>0.1667</td>\n",
       "      <td>0.1667</td>\n",
       "      <td>0.6667</td>\n",
       "      <td>0.1667</td>\n",
       "      <td>0.3333</td>\n",
       "      <td>0.2</td>\n",
       "      <td>0.2</td>\n",
       "      <td>0.0</td>\n",
       "    </tr>\n",
       "    <tr>\n",
       "      <td>16</td>\n",
       "      <td>6</td>\n",
       "      <td>RIP</td>\n",
       "      <td>0.0000</td>\n",
       "      <td>0.0000</td>\n",
       "      <td>0.3333</td>\n",
       "      <td>0.0000</td>\n",
       "      <td>0.5000</td>\n",
       "      <td>0.0000</td>\n",
       "      <td>0.0000</td>\n",
       "      <td>0.0</td>\n",
       "      <td>0.2</td>\n",
       "      <td>0.0</td>\n",
       "    </tr>\n",
       "    <tr>\n",
       "      <td>17</td>\n",
       "      <td>6</td>\n",
       "      <td>NB</td>\n",
       "      <td>0.0000</td>\n",
       "      <td>0.0000</td>\n",
       "      <td>0.1667</td>\n",
       "      <td>0.0000</td>\n",
       "      <td>0.1667</td>\n",
       "      <td>0.1667</td>\n",
       "      <td>0.0000</td>\n",
       "      <td>0.0</td>\n",
       "      <td>0.0</td>\n",
       "      <td>0.0</td>\n",
       "    </tr>\n",
       "    <tr>\n",
       "      <td>18</td>\n",
       "      <td>7</td>\n",
       "      <td>c4.5</td>\n",
       "      <td>0.1667</td>\n",
       "      <td>0.3333</td>\n",
       "      <td>0.1667</td>\n",
       "      <td>0.3333</td>\n",
       "      <td>0.1667</td>\n",
       "      <td>0.1667</td>\n",
       "      <td>0.3333</td>\n",
       "      <td>0.2</td>\n",
       "      <td>0.0</td>\n",
       "      <td>0.2</td>\n",
       "    </tr>\n",
       "    <tr>\n",
       "      <td>19</td>\n",
       "      <td>7</td>\n",
       "      <td>RIP</td>\n",
       "      <td>0.1667</td>\n",
       "      <td>0.1667</td>\n",
       "      <td>0.1667</td>\n",
       "      <td>0.3333</td>\n",
       "      <td>0.1667</td>\n",
       "      <td>0.1667</td>\n",
       "      <td>0.3333</td>\n",
       "      <td>0.4</td>\n",
       "      <td>0.0</td>\n",
       "      <td>0.2</td>\n",
       "    </tr>\n",
       "    <tr>\n",
       "      <td>20</td>\n",
       "      <td>7</td>\n",
       "      <td>NB</td>\n",
       "      <td>0.1667</td>\n",
       "      <td>0.1667</td>\n",
       "      <td>0.1667</td>\n",
       "      <td>0.0000</td>\n",
       "      <td>0.1667</td>\n",
       "      <td>0.3333</td>\n",
       "      <td>0.3333</td>\n",
       "      <td>0.0</td>\n",
       "      <td>0.2</td>\n",
       "      <td>0.0</td>\n",
       "    </tr>\n",
       "    <tr>\n",
       "      <td>21</td>\n",
       "      <td>8</td>\n",
       "      <td>c4.5</td>\n",
       "      <td>0.0000</td>\n",
       "      <td>0.1667</td>\n",
       "      <td>0.1667</td>\n",
       "      <td>0.0000</td>\n",
       "      <td>0.0000</td>\n",
       "      <td>0.0000</td>\n",
       "      <td>0.1667</td>\n",
       "      <td>0.0</td>\n",
       "      <td>0.6</td>\n",
       "      <td>0.4</td>\n",
       "    </tr>\n",
       "    <tr>\n",
       "      <td>22</td>\n",
       "      <td>8</td>\n",
       "      <td>RIP</td>\n",
       "      <td>0.1667</td>\n",
       "      <td>0.1667</td>\n",
       "      <td>0.1667</td>\n",
       "      <td>0.0000</td>\n",
       "      <td>0.0000</td>\n",
       "      <td>0.1667</td>\n",
       "      <td>0.0000</td>\n",
       "      <td>0.0</td>\n",
       "      <td>0.2</td>\n",
       "      <td>0.2</td>\n",
       "    </tr>\n",
       "    <tr>\n",
       "      <td>23</td>\n",
       "      <td>8</td>\n",
       "      <td>NB</td>\n",
       "      <td>0.0000</td>\n",
       "      <td>0.0000</td>\n",
       "      <td>0.0000</td>\n",
       "      <td>0.0000</td>\n",
       "      <td>0.0000</td>\n",
       "      <td>0.0000</td>\n",
       "      <td>0.0000</td>\n",
       "      <td>0.0</td>\n",
       "      <td>0.2</td>\n",
       "      <td>0.2</td>\n",
       "    </tr>\n",
       "    <tr>\n",
       "      <td>24</td>\n",
       "      <td>9</td>\n",
       "      <td>c4.5</td>\n",
       "      <td>0.1667</td>\n",
       "      <td>0.3333</td>\n",
       "      <td>0.1667</td>\n",
       "      <td>0.3333</td>\n",
       "      <td>0.3333</td>\n",
       "      <td>0.3333</td>\n",
       "      <td>0.0000</td>\n",
       "      <td>0.6</td>\n",
       "      <td>0.2</td>\n",
       "      <td>0.2</td>\n",
       "    </tr>\n",
       "    <tr>\n",
       "      <td>25</td>\n",
       "      <td>9</td>\n",
       "      <td>RIP</td>\n",
       "      <td>0.0000</td>\n",
       "      <td>0.0000</td>\n",
       "      <td>0.1667</td>\n",
       "      <td>0.0000</td>\n",
       "      <td>0.0000</td>\n",
       "      <td>0.1667</td>\n",
       "      <td>0.0000</td>\n",
       "      <td>0.4</td>\n",
       "      <td>0.0</td>\n",
       "      <td>0.2</td>\n",
       "    </tr>\n",
       "    <tr>\n",
       "      <td>26</td>\n",
       "      <td>9</td>\n",
       "      <td>NB</td>\n",
       "      <td>0.0000</td>\n",
       "      <td>0.0000</td>\n",
       "      <td>0.0000</td>\n",
       "      <td>0.1667</td>\n",
       "      <td>0.0000</td>\n",
       "      <td>0.0000</td>\n",
       "      <td>0.0000</td>\n",
       "      <td>0.0</td>\n",
       "      <td>0.0</td>\n",
       "      <td>0.2</td>\n",
       "    </tr>\n",
       "    <tr>\n",
       "      <td>27</td>\n",
       "      <td>10</td>\n",
       "      <td>c4.5</td>\n",
       "      <td>0.5000</td>\n",
       "      <td>0.1667</td>\n",
       "      <td>0.1667</td>\n",
       "      <td>0.5000</td>\n",
       "      <td>0.5000</td>\n",
       "      <td>0.3333</td>\n",
       "      <td>0.0000</td>\n",
       "      <td>0.4</td>\n",
       "      <td>0.4</td>\n",
       "      <td>0.0</td>\n",
       "    </tr>\n",
       "    <tr>\n",
       "      <td>28</td>\n",
       "      <td>10</td>\n",
       "      <td>RIP</td>\n",
       "      <td>0.5000</td>\n",
       "      <td>0.1667</td>\n",
       "      <td>0.1667</td>\n",
       "      <td>0.1667</td>\n",
       "      <td>0.0000</td>\n",
       "      <td>0.3333</td>\n",
       "      <td>0.3333</td>\n",
       "      <td>0.2</td>\n",
       "      <td>0.2</td>\n",
       "      <td>0.2</td>\n",
       "    </tr>\n",
       "    <tr>\n",
       "      <td>29</td>\n",
       "      <td>10</td>\n",
       "      <td>NB</td>\n",
       "      <td>0.5000</td>\n",
       "      <td>0.1667</td>\n",
       "      <td>0.0000</td>\n",
       "      <td>0.0000</td>\n",
       "      <td>0.0000</td>\n",
       "      <td>0.0000</td>\n",
       "      <td>0.1667</td>\n",
       "      <td>0.2</td>\n",
       "      <td>0.2</td>\n",
       "      <td>0.0</td>\n",
       "    </tr>\n",
       "  </tbody>\n",
       "</table>\n",
       "</div>"
      ],
      "text/plain": [
       "    Trial No. Classifiers      f1      f2      f3      f4      f5      f6  \\\n",
       "0           1        c4.5  0.5000  0.0000  0.3333  0.0000  0.3333  0.3333   \n",
       "1           1         RIP  0.3333  0.5000  0.0000  0.0000  0.3333  0.5000   \n",
       "2           1          NB  0.1667  0.0000  0.0000  0.0000  0.0000  0.1667   \n",
       "3           2        c4.5  0.3333  0.1667  0.1667  0.3333  0.3333  0.0000   \n",
       "4           2         RIP  0.3333  0.1667  0.0000  0.0000  0.3333  0.1667   \n",
       "5           2          NB  0.3333  0.0000  0.1667  0.1667  0.0000  0.0000   \n",
       "6           3        c4.5  0.0000  0.0000  0.3333  0.3333  0.1667  0.3333   \n",
       "7           3         RIP  0.0000  0.0000  0.1667  0.3333  0.1667  0.1667   \n",
       "8           3          NB  0.0000  0.0000  0.0000  0.0000  0.0000  0.1667   \n",
       "9           4        c4.5  0.5000  0.1667  0.3333  0.1667  0.0000  0.1667   \n",
       "10          4         RIP  0.3333  0.0000  0.1667  0.1667  0.1667  0.0000   \n",
       "11          4          NB  0.3333  0.0000  0.0000  0.1667  0.0000  0.0000   \n",
       "12          5        c4.5  0.0000  0.1667  0.3333  0.1667  0.0000  0.1667   \n",
       "13          5         RIP  0.3333  0.1667  0.1667  0.1667  0.0000  0.1667   \n",
       "14          5          NB  0.0000  0.1667  0.0000  0.0000  0.1667  0.0000   \n",
       "15          6        c4.5  0.3333  0.1667  0.1667  0.1667  0.6667  0.1667   \n",
       "16          6         RIP  0.0000  0.0000  0.3333  0.0000  0.5000  0.0000   \n",
       "17          6          NB  0.0000  0.0000  0.1667  0.0000  0.1667  0.1667   \n",
       "18          7        c4.5  0.1667  0.3333  0.1667  0.3333  0.1667  0.1667   \n",
       "19          7         RIP  0.1667  0.1667  0.1667  0.3333  0.1667  0.1667   \n",
       "20          7          NB  0.1667  0.1667  0.1667  0.0000  0.1667  0.3333   \n",
       "21          8        c4.5  0.0000  0.1667  0.1667  0.0000  0.0000  0.0000   \n",
       "22          8         RIP  0.1667  0.1667  0.1667  0.0000  0.0000  0.1667   \n",
       "23          8          NB  0.0000  0.0000  0.0000  0.0000  0.0000  0.0000   \n",
       "24          9        c4.5  0.1667  0.3333  0.1667  0.3333  0.3333  0.3333   \n",
       "25          9         RIP  0.0000  0.0000  0.1667  0.0000  0.0000  0.1667   \n",
       "26          9          NB  0.0000  0.0000  0.0000  0.1667  0.0000  0.0000   \n",
       "27         10        c4.5  0.5000  0.1667  0.1667  0.5000  0.5000  0.3333   \n",
       "28         10         RIP  0.5000  0.1667  0.1667  0.1667  0.0000  0.3333   \n",
       "29         10          NB  0.5000  0.1667  0.0000  0.0000  0.0000  0.0000   \n",
       "\n",
       "        f7   f8   f9  f10  \n",
       "0   0.3333  0.2  0.2  0.2  \n",
       "1   0.1667  0.0  0.2  0.0  \n",
       "2   0.0000  0.4  0.0  0.0  \n",
       "3   0.0000  0.0  0.2  0.2  \n",
       "4   0.0000  0.2  0.2  0.0  \n",
       "5   0.0000  0.0  0.0  0.0  \n",
       "6   0.1667  0.0  0.2  0.2  \n",
       "7   0.1667  0.2  0.4  0.2  \n",
       "8   0.0000  0.0  0.0  0.0  \n",
       "9   0.5000  0.2  0.2  0.4  \n",
       "10  0.6667  0.2  0.2  0.2  \n",
       "11  0.0000  0.0  0.0  0.2  \n",
       "12  0.0000  0.2  0.4  0.2  \n",
       "13  0.0000  0.4  0.0  0.2  \n",
       "14  0.0000  0.0  0.0  0.4  \n",
       "15  0.3333  0.2  0.2  0.0  \n",
       "16  0.0000  0.0  0.2  0.0  \n",
       "17  0.0000  0.0  0.0  0.0  \n",
       "18  0.3333  0.2  0.0  0.2  \n",
       "19  0.3333  0.4  0.0  0.2  \n",
       "20  0.3333  0.0  0.2  0.0  \n",
       "21  0.1667  0.0  0.6  0.4  \n",
       "22  0.0000  0.0  0.2  0.2  \n",
       "23  0.0000  0.0  0.2  0.2  \n",
       "24  0.0000  0.6  0.2  0.2  \n",
       "25  0.0000  0.4  0.0  0.2  \n",
       "26  0.0000  0.0  0.0  0.2  \n",
       "27  0.0000  0.4  0.4  0.0  \n",
       "28  0.3333  0.2  0.2  0.2  \n",
       "29  0.1667  0.2  0.2  0.0  "
      ]
     },
     "execution_count": 2,
     "metadata": {},
     "output_type": "execute_result"
    }
   ],
   "source": [
    "# let's see the data\n",
    "data = pd.read_csv('./datasets/ml_classifiers.csv')\n",
    "data"
   ]
  },
  {
   "cell_type": "code",
   "execution_count": 3,
   "metadata": {
    "slideshow": {
     "slide_type": "subslide"
    }
   },
   "outputs": [
    {
     "data": {
      "text/html": [
       "<div>\n",
       "<style scoped>\n",
       "    .dataframe tbody tr th:only-of-type {\n",
       "        vertical-align: middle;\n",
       "    }\n",
       "\n",
       "    .dataframe tbody tr th {\n",
       "        vertical-align: top;\n",
       "    }\n",
       "\n",
       "    .dataframe thead th {\n",
       "        text-align: right;\n",
       "    }\n",
       "</style>\n",
       "<table border=\"1\" class=\"dataframe\">\n",
       "  <thead>\n",
       "    <tr style=\"text-align: right;\">\n",
       "      <th></th>\n",
       "      <th>Trial No.</th>\n",
       "      <th>Classifiers</th>\n",
       "      <th>f1</th>\n",
       "      <th>f2</th>\n",
       "      <th>f3</th>\n",
       "      <th>f4</th>\n",
       "      <th>f5</th>\n",
       "      <th>f6</th>\n",
       "      <th>f7</th>\n",
       "      <th>f8</th>\n",
       "      <th>f9</th>\n",
       "      <th>f10</th>\n",
       "    </tr>\n",
       "  </thead>\n",
       "  <tbody>\n",
       "    <tr>\n",
       "      <td>2</td>\n",
       "      <td>1.0</td>\n",
       "      <td>NB</td>\n",
       "      <td>0.1667</td>\n",
       "      <td>0.0000</td>\n",
       "      <td>0.0000</td>\n",
       "      <td>0.0000</td>\n",
       "      <td>0.0000</td>\n",
       "      <td>0.1667</td>\n",
       "      <td>0.0000</td>\n",
       "      <td>0.4</td>\n",
       "      <td>0.0</td>\n",
       "      <td>0.0</td>\n",
       "    </tr>\n",
       "    <tr>\n",
       "      <td>5</td>\n",
       "      <td>2.0</td>\n",
       "      <td>NB</td>\n",
       "      <td>0.3333</td>\n",
       "      <td>0.0000</td>\n",
       "      <td>0.1667</td>\n",
       "      <td>0.1667</td>\n",
       "      <td>0.0000</td>\n",
       "      <td>0.0000</td>\n",
       "      <td>0.0000</td>\n",
       "      <td>0.0</td>\n",
       "      <td>0.0</td>\n",
       "      <td>0.0</td>\n",
       "    </tr>\n",
       "    <tr>\n",
       "      <td>8</td>\n",
       "      <td>3.0</td>\n",
       "      <td>NB</td>\n",
       "      <td>0.0000</td>\n",
       "      <td>0.0000</td>\n",
       "      <td>0.0000</td>\n",
       "      <td>0.0000</td>\n",
       "      <td>0.0000</td>\n",
       "      <td>0.1667</td>\n",
       "      <td>0.0000</td>\n",
       "      <td>0.0</td>\n",
       "      <td>0.0</td>\n",
       "      <td>0.0</td>\n",
       "    </tr>\n",
       "    <tr>\n",
       "      <td>11</td>\n",
       "      <td>4.0</td>\n",
       "      <td>NB</td>\n",
       "      <td>0.3333</td>\n",
       "      <td>0.0000</td>\n",
       "      <td>0.0000</td>\n",
       "      <td>0.1667</td>\n",
       "      <td>0.0000</td>\n",
       "      <td>0.0000</td>\n",
       "      <td>0.0000</td>\n",
       "      <td>0.0</td>\n",
       "      <td>0.0</td>\n",
       "      <td>0.2</td>\n",
       "    </tr>\n",
       "    <tr>\n",
       "      <td>14</td>\n",
       "      <td>5.0</td>\n",
       "      <td>NB</td>\n",
       "      <td>0.0000</td>\n",
       "      <td>0.1667</td>\n",
       "      <td>0.0000</td>\n",
       "      <td>0.0000</td>\n",
       "      <td>0.1667</td>\n",
       "      <td>0.0000</td>\n",
       "      <td>0.0000</td>\n",
       "      <td>0.0</td>\n",
       "      <td>0.0</td>\n",
       "      <td>0.4</td>\n",
       "    </tr>\n",
       "    <tr>\n",
       "      <td>17</td>\n",
       "      <td>6.0</td>\n",
       "      <td>NB</td>\n",
       "      <td>0.0000</td>\n",
       "      <td>0.0000</td>\n",
       "      <td>0.1667</td>\n",
       "      <td>0.0000</td>\n",
       "      <td>0.1667</td>\n",
       "      <td>0.1667</td>\n",
       "      <td>0.0000</td>\n",
       "      <td>0.0</td>\n",
       "      <td>0.0</td>\n",
       "      <td>0.0</td>\n",
       "    </tr>\n",
       "    <tr>\n",
       "      <td>20</td>\n",
       "      <td>7.0</td>\n",
       "      <td>NB</td>\n",
       "      <td>0.1667</td>\n",
       "      <td>0.1667</td>\n",
       "      <td>0.1667</td>\n",
       "      <td>0.0000</td>\n",
       "      <td>0.1667</td>\n",
       "      <td>0.3333</td>\n",
       "      <td>0.3333</td>\n",
       "      <td>0.0</td>\n",
       "      <td>0.2</td>\n",
       "      <td>0.0</td>\n",
       "    </tr>\n",
       "    <tr>\n",
       "      <td>23</td>\n",
       "      <td>8.0</td>\n",
       "      <td>NB</td>\n",
       "      <td>0.0000</td>\n",
       "      <td>0.0000</td>\n",
       "      <td>0.0000</td>\n",
       "      <td>0.0000</td>\n",
       "      <td>0.0000</td>\n",
       "      <td>0.0000</td>\n",
       "      <td>0.0000</td>\n",
       "      <td>0.0</td>\n",
       "      <td>0.2</td>\n",
       "      <td>0.2</td>\n",
       "    </tr>\n",
       "    <tr>\n",
       "      <td>26</td>\n",
       "      <td>9.0</td>\n",
       "      <td>NB</td>\n",
       "      <td>0.0000</td>\n",
       "      <td>0.0000</td>\n",
       "      <td>0.0000</td>\n",
       "      <td>0.1667</td>\n",
       "      <td>0.0000</td>\n",
       "      <td>0.0000</td>\n",
       "      <td>0.0000</td>\n",
       "      <td>0.0</td>\n",
       "      <td>0.0</td>\n",
       "      <td>0.2</td>\n",
       "    </tr>\n",
       "    <tr>\n",
       "      <td>29</td>\n",
       "      <td>10.0</td>\n",
       "      <td>NB</td>\n",
       "      <td>0.5000</td>\n",
       "      <td>0.1667</td>\n",
       "      <td>0.0000</td>\n",
       "      <td>0.0000</td>\n",
       "      <td>0.0000</td>\n",
       "      <td>0.0000</td>\n",
       "      <td>0.1667</td>\n",
       "      <td>0.2</td>\n",
       "      <td>0.2</td>\n",
       "      <td>0.0</td>\n",
       "    </tr>\n",
       "  </tbody>\n",
       "</table>\n",
       "</div>"
      ],
      "text/plain": [
       "    Trial No. Classifiers      f1      f2      f3      f4      f5      f6  \\\n",
       "2         1.0          NB  0.1667  0.0000  0.0000  0.0000  0.0000  0.1667   \n",
       "5         2.0          NB  0.3333  0.0000  0.1667  0.1667  0.0000  0.0000   \n",
       "8         3.0          NB  0.0000  0.0000  0.0000  0.0000  0.0000  0.1667   \n",
       "11        4.0          NB  0.3333  0.0000  0.0000  0.1667  0.0000  0.0000   \n",
       "14        5.0          NB  0.0000  0.1667  0.0000  0.0000  0.1667  0.0000   \n",
       "17        6.0          NB  0.0000  0.0000  0.1667  0.0000  0.1667  0.1667   \n",
       "20        7.0          NB  0.1667  0.1667  0.1667  0.0000  0.1667  0.3333   \n",
       "23        8.0          NB  0.0000  0.0000  0.0000  0.0000  0.0000  0.0000   \n",
       "26        9.0          NB  0.0000  0.0000  0.0000  0.1667  0.0000  0.0000   \n",
       "29       10.0          NB  0.5000  0.1667  0.0000  0.0000  0.0000  0.0000   \n",
       "\n",
       "        f7   f8   f9  f10  \n",
       "2   0.0000  0.4  0.0  0.0  \n",
       "5   0.0000  0.0  0.0  0.0  \n",
       "8   0.0000  0.0  0.0  0.0  \n",
       "11  0.0000  0.0  0.0  0.2  \n",
       "14  0.0000  0.0  0.0  0.4  \n",
       "17  0.0000  0.0  0.0  0.0  \n",
       "20  0.3333  0.0  0.2  0.0  \n",
       "23  0.0000  0.0  0.2  0.2  \n",
       "26  0.0000  0.0  0.0  0.2  \n",
       "29  0.1667  0.2  0.2  0.0  "
      ]
     },
     "execution_count": 3,
     "metadata": {},
     "output_type": "execute_result"
    }
   ],
   "source": [
    "# for a certain classifier:\n",
    "data.where(data['Classifiers'] == 'NB').dropna()  # without dropna(), it will show NaN on other rows"
   ]
  },
  {
   "cell_type": "markdown",
   "metadata": {
    "slideshow": {
     "slide_type": "subslide"
    }
   },
   "source": [
    "#### Questions\n",
    "---\n",
    "1. Map the problem to the framework of Hypothesis Testing, with a test in the form of a t-test.\n",
    "2. Define $d_i$ as the *average* difference per trial. Calculate $d_i$ between the classifier c4.5 and NB for every one of the 10 given trials.\n",
    "3. Calculate $\\overline{d}, \\tilde{\\sigma}_d^2$ and $t$.\n",
    "4. For the significane levels of $\\alpha=0.05$, do the two classifiers have similar performance?"
   ]
  },
  {
   "cell_type": "markdown",
   "metadata": {
    "slideshow": {
     "slide_type": "subslide"
    }
   },
   "source": [
    "#### <img src=\"https://img.icons8.com/dusk/64/000000/idea.png\" style=\"height:30px;display:inline\"> Solution\n",
    "---\n",
    "#### Section 1\n",
    "---\n",
    "#### Q: Map the problem to the framework of Hypothesis Testing, with a test in the form of a t-test.\n",
    "---\n",
    "* We ask a question about the *random variable* $d_i$. \n",
    "* $d_i$ measures the performance difference of the algorithms when they are trained on a specific realization of the data (which is an RV). \n",
    "* Our null hypothesis, $H_0$, is that  $\\mu_{d_i} = 0$: the two classifiers are similar. \n",
    "* However, we do not know the variance of the random variable. \n",
    "* We can assume that: $$ d_i \\sim \\mathcal{N} (\\mu', \\sigma) $$ where the parameters are unknown. \n",
    "* This assumption makes sense in the *limit of large data* and under the (wrong) assumption that each entry of the table is drawn independently from a Gaussian distribution. \n",
    "* Since we do not know the variance, this framework exactly fits the **t-test** framework."
   ]
  },
  {
   "cell_type": "markdown",
   "metadata": {
    "slideshow": {
     "slide_type": "subslide"
    }
   },
   "source": [
    "#### Section 2\n",
    "---\n",
    "#### Q: Define $d_i$ as the *average* difference per trial. Calculate $d_i$ between the classifier c4.5 and NB for every one of the 10 given trials.\n",
    "---\n",
    "* Recall that $d_i$ is the difference in performance measure between the two classifiers. \n",
    "* We are given 10 partitions of the dataset (for cross-validation) and we also perform 10 trials. \n",
    "* Thus, $d_i$ is the difference of performance in the $i^{th}$ trial, and we calculate it as the average over cross-validations sets. $$ d_i = \\frac{1}{10} \\sum_{j=1}^{10} pm_{i,j} (c4.5) -pm_{i,j} (NB), $$\n",
    "where $j$ is the index of the cross-valdiation set."
   ]
  },
  {
   "cell_type": "code",
   "execution_count": 4,
   "metadata": {
    "scrolled": true,
    "slideshow": {
     "slide_type": "subslide"
    }
   },
   "outputs": [
    {
     "name": "stdout",
     "output_type": "stream",
     "text": [
      "differnce in performance measure for c4.5 and NB:\n",
      "d_1 = 0.16998000000000005\n",
      "d_2 = 0.10665999999999999\n",
      "d_3 = 0.15666\n",
      "d_4 = 0.19334\n",
      "d_5 = 0.08999999999999998\n",
      "d_6 = 0.19\n",
      "d_7 = 0.053330000000000016\n",
      "d_8 = 0.11000999999999997\n",
      "d_9 = 0.22999\n",
      "d_10 = 0.17333\n"
     ]
    }
   ],
   "source": [
    "# let's calculate all of the d_i\n",
    "nb_data = data.where(data['Classifiers'] == 'NB').dropna().drop(columns=['Trial No.', 'Classifiers']).mean(axis=1).values\n",
    "c45_data = data.where(data['Classifiers'] == 'c4.5').dropna().drop(columns=['Trial No.', 'Classifiers']).mean(axis=1).values\n",
    "d = c45_data - nb_data\n",
    "print(\"differnce in performance measure for c4.5 and NB:\")\n",
    "for i in range(len(d)):\n",
    "    print(\"d_{} = {}\".format(i + 1, d[i]))"
   ]
  },
  {
   "cell_type": "markdown",
   "metadata": {
    "slideshow": {
     "slide_type": "subslide"
    }
   },
   "source": [
    "#### Section 3\n",
    "---\n",
    "#### Q: Calculate $\\overline{d}, \\tilde{\\sigma}_d^2$ and $t$.\n",
    "---\n",
    "Let's calculate $\\overline{d}, \\tilde{\\sigma}_d^2$ and $t$. Recall:\n",
    "\n",
    "* Define our **performance measure** (pm): $$ pm_i(f) = \\begin{cases} 1, \\quad f \\text{ classified incorrectly } x_i \\\\ 0, \\quad \\text{otherwise} \\end{cases} $$ \n",
    "* The *average* performance measure of $f$: $$ \\overline{pm}(f) = \\frac{1}{n}\\sum_{i=1}^n pm_i(f) $$\n",
    "* Performance *difference* measures of two classifier $f_1$ and $f_2$: $$ d_i = pm_i(f_1) - pm_i(f_2) $$ $$ \\overline{d} = \\overline{pm}(f_1) - \\overline{pm}(f_2) $$\n",
    "* Define the t-statistics (as we do not know the mean nor the std): $$ t = \\frac{\\overline{d} - 0}{\\tilde{\\sigma}_d / \\sqrt{n}} $$\n",
    "* $\\tilde{\\sigma}_d^2 = \\frac{1}{n-1} \\sum_{i=1}^n (d_i -  \\overline{d})^2$"
   ]
  },
  {
   "cell_type": "code",
   "execution_count": 5,
   "metadata": {
    "slideshow": {
     "slide_type": "subslide"
    }
   },
   "outputs": [
    {
     "name": "stdout",
     "output_type": "stream",
     "text": [
      "d_average:  0.14733000000000002\n",
      "empirical variance of d:  0.0030239951333333338\n",
      "empirical std of d:  0.054990864089713425\n",
      "t =  8.472286722254982\n"
     ]
    }
   ],
   "source": [
    "# let's calculate the wanted terms\n",
    "d_avg = d.mean()\n",
    "print(\"d_average: \", d_avg)\n",
    "\n",
    "var_d = (1 / (len(d) - 1)) * np.sum(np.square(d - d_avg))\n",
    "print(\"empirical variance of d: \", var_d)\n",
    "print(\"empirical std of d: \", np.sqrt(var_d))\n",
    "\n",
    "t_test = (d_avg - 0) / (np.sqrt(var_d) / np.sqrt(len(d)))\n",
    "print(\"t = \", t_test)"
   ]
  },
  {
   "cell_type": "markdown",
   "metadata": {
    "slideshow": {
     "slide_type": "subslide"
    }
   },
   "source": [
    "#### Section 4\n",
    "---\n",
    "#### Q: For the significane levels of $\\alpha=0.05$, do the two classifiers have similar performance?\n",
    "---\n",
    "* After calculating $t$, all that is left to be done is analyzing the distribution of $t$, which we know has the form of the **student-t distribution** with $n-1$ degrees of freedom (note that for $n \\to \\infty$ the student-t distribution approaches the Normal distribution). \n",
    "* In our case, $n=10$, since we averaged 10 RVs.\n",
    "\n",
    "* For two-tailed alternative hypothesis - we can read the value of $t_{n-1,1- \\frac{\\alpha}{2}}$ which set the t-test to have a certain size: $$ P(t > t_{n-1, 1- \\frac{\\alpha}{2}} ) = \\frac{\\alpha}{2} $$ Since we wish to have a test with size $\\alpha = 0.05$, we read the value: $$ t_{n-1, 1- \\frac{\\alpha}{2}} = t_{9, 1-0.025} $$"
   ]
  },
  {
   "cell_type": "code",
   "execution_count": 6,
   "metadata": {
    "slideshow": {
     "slide_type": "subslide"
    }
   },
   "outputs": [
    {
     "name": "stdout",
     "output_type": "stream",
     "text": [
      "t value:  2.2621571627409915\n"
     ]
    }
   ],
   "source": [
    "alpha = 0.05\n",
    "t_value = t_dist.ppf(1 - alpha / 2, df=len(d) - 1)  # Percent point function (inverse of cdf — percentiles)\n",
    "print(\"t value: \", t_value)"
   ]
  },
  {
   "cell_type": "markdown",
   "metadata": {
    "slideshow": {
     "slide_type": "subslide"
    }
   },
   "source": [
    "So we got that: $$ t_{n-1,1- \\frac{\\alpha}{2}} = t_{9,1- 0.025} = 2.26 $$ And the test takes the following form: **reject** the null hypothesis $H_0$ if $$ |t| > t_{n-1, \\frac{\\alpha}{2}} = 2.26 $$\n",
    "\n",
    "Therfore, given the test size, $\\alpha = 0.05$, we reject $H_0$ and conclude that NB and c4.5 peform differently."
   ]
  },
  {
   "cell_type": "markdown",
   "metadata": {
    "slideshow": {
     "slide_type": "subslide"
    }
   },
   "source": [
    "#### Section 4 Continued\n",
    "---\n",
    "* For one-sided alternative hypothesis ($\\mu_1 > \\mu_2 \\rightarrow \\overline{d} > 0$) - we can read the value of $t_{n-1, 1-\\alpha}$ which set the t-test to have a certain size: $$ P(t > t_{n-1, 1-\\alpha} ) = \\alpha $$ Since we wish to have a test with size $\\alpha = 0.05$, we read the value: $$ t_{n-1, 1- \\alpha} = t_{9, 0.05} $$"
   ]
  },
  {
   "cell_type": "code",
   "execution_count": 7,
   "metadata": {
    "slideshow": {
     "slide_type": "subslide"
    }
   },
   "outputs": [
    {
     "name": "stdout",
     "output_type": "stream",
     "text": [
      "t value:  1.8331129326536335\n"
     ]
    }
   ],
   "source": [
    "alpha = 0.05\n",
    "t_value = t_dist.ppf(1-alpha, df=len(d)-1)  # Percent point function (inverse of cdf — percentiles)\n",
    "print(\"t value: \", t_value)"
   ]
  },
  {
   "cell_type": "markdown",
   "metadata": {
    "slideshow": {
     "slide_type": "subslide"
    }
   },
   "source": [
    "So we got that: $$ t_{n-1, 1-\\alpha} = t_{9, 1-0.05} = 1.833 $$ And the test takes the following form: **reject** the null hypothesis $H_0$ if $$ t > t_{n-1, 1-\\alpha} = 1.833 $$\n",
    "\n",
    "Therfore, given the test size, $\\alpha = 0.05$, we reject $H_0$ and conclude that NB performs consistently *better* than c4.5 (since the expected error rate of c4.5 is higher)."
   ]
  },
  {
   "cell_type": "markdown",
   "metadata": {
    "slideshow": {
     "slide_type": "slide"
    }
   },
   "source": [
    "## <img src=\"https://img.icons8.com/bubbles/50/000000/test-tube.png\" style=\"height:50px;display:inline\"> Pearson's Chi-Squared ($\\chi^2$) Test\n",
    "---\n",
    "* *Pearson’s chi-squared* test is a statistical test applied to sets of **categorical data** to evaluate how likely it is that any observed difference between the sets arose by chance.\n",
    "    * **Categorical data** - data consisting of categorical variables (a variable that can take on one of the limited possible values).\n",
    "        * For example - subway usage on specific days:\n",
    "      \n",
    "|Average Weekday| Average Saturday| Average Sunday|\n",
    "|---------------|-----------------|---------------|\n",
    "| 5,284,295     | 3,202,388       | 2,555,814     |\n"
   ]
  },
  {
   "cell_type": "markdown",
   "metadata": {
    "slideshow": {
     "slide_type": "subslide"
    }
   },
   "source": [
    "\n",
    "* By using Pearson’s chi-squared test we can accept or reject the null hypothesis, $H_0$. Usually, a null hypothesis represented in the way of an expected set of data, and alternative hypothesis, $H_1$, as some newly observed data.\n",
    "* The Chi-Squared Statistic: $$ \\chi^2 = \\sum_{i=1}^n \\frac{(O[i] - E[i])^2}{E[i]} $$\n",
    "    * $O[i]$ - Observed data ($i^{th}$ category).\n",
    "    * $E[i]$ - Expected data (for the $i^{th}$ category).\n",
    "* We will use the **Chi-squared distribution function** with $n-1$ degrees of freedom (DOF), where $n$ is the number of categories.\n",
    "* For a **significance level** $\\alpha$, we reject the null hypothesis, $H_0$ if the chi-squared statistic is *above* the **critical value**.\n",
    "    * The **critical value** is calculated using the Chi-squared distribution function for a certain siginificance level."
   ]
  },
  {
   "cell_type": "markdown",
   "metadata": {
    "slideshow": {
     "slide_type": "subslide"
    }
   },
   "source": [
    "#### Example  - Dropout/Graduation Rates\n",
    "---\n",
    "Consider the following data about dropout/graduation rates (which will serve as our null hypothesis).\n",
    "\n",
    "|First Year Dropout| Second Year Dropout| Third Year Dropout|Fourth Year Dropout|Graduated|\n",
    "|------------------|--------------------|-------------------|-------------------|---------|\n",
    "|0.2               | 0.1                | 0.15              | 0.05              | 0.5     |\n",
    "\n",
    "Recently, a research was conducted and the observed data from a sample size of $N=2000$ was:\n",
    "\n",
    "|                |First Year Dropout| Second Year Dropout| Third Year Dropout|Fourth Year Dropout|Graduated|\n",
    "|----------------|------------------|--------------------|-------------------|-------------------|---------|\n",
    "|Number of People|543               | 145                | 210               | 110               | 992     |\n",
    "\n",
    "Assuming the old data was corerct ($H_0$), what would the expected data look like?\n",
    "\n",
    "|                |First Year Dropout| Second Year Dropout| Third Year Dropout|Fourth Year Dropout|Graduated| Total|\n",
    "|----------------|------------------|--------------------|-------------------|-------------------|---------|------|\n",
    "|Observed        |543               | 145                | 210               | 110               | 992     |2000  |\n",
    "|Expected        |$2000 \\cdot 0.2=400$|$2000 \\cdot 0.1=200$|$2000 \\cdot 0.15=300$|$2000 \\cdot 0.05=100$|$2000 \\cdot 0.5=1000$     |2000  |\n",
    "\n",
    "We will now perform the Chi-squared test for a significance level $\\alpha = 0.05$"
   ]
  },
  {
   "cell_type": "code",
   "execution_count": 8,
   "metadata": {
    "scrolled": false,
    "slideshow": {
     "slide_type": "slide"
    }
   },
   "outputs": [
    {
     "name": "stdout",
     "output_type": "stream",
     "text": [
      "chi-squared statistic value:  94.3115\n",
      "critical value:  9.487729036781154\n",
      "H_0 is rejected!\n"
     ]
    }
   ],
   "source": [
    "# chi-squared test\n",
    "num_categories = 5\n",
    "dof = num_categories - 1 # degrees of freedom\n",
    "alpha = 0.05\n",
    "observed = [543, 145, 210, 110, 992]\n",
    "expected = [400, 200, 300, 100, 1000]\n",
    "# compute chi-squared statistic\n",
    "chi_square_stat = np.sum((np.array(observed) - np.array(expected))**2 / np.array(expected))\n",
    "print(\"chi-squared statistic value: \", chi_square_stat)\n",
    "\n",
    "# compute critical value using the inverse of the CDF\n",
    "critical_value = chi2.ppf(q=1-alpha, df=dof)\n",
    "print(\"critical value: \", critical_value)\n",
    "\n",
    "if chi_square_stat > critical_value:\n",
    "    print(\"H_0 is rejected!\")\n",
    "else:\n",
    "    print(\"H_0 is accepted!\")"
   ]
  },
  {
   "cell_type": "code",
   "execution_count": 9,
   "metadata": {
    "slideshow": {
     "slide_type": "subslide"
    }
   },
   "outputs": [
    {
     "data": {
      "text/plain": [
       "Text(0.5, 1.0, 'Chi-Squared Acceptance/Rejection Regions for alpha = 0.05')"
      ]
     },
     "execution_count": 9,
     "metadata": {},
     "output_type": "execute_result"
    },
    {
     "data": {
      "image/png": "[encoded data removed]",
      "text/plain": [
       "<Figure size 576x360 with 1 Axes>"
      ]
     },
     "metadata": {
      "needs_background": "light"
     },
     "output_type": "display_data"
    }
   ],
   "source": [
    "# plot rejection/acceptance regions\n",
    "x = np.linspace(0, 50)\n",
    "fig = plt.figure(figsize=(8, 5))\n",
    "ax = fig.add_subplot(111)\n",
    "ax.plot(x, chi2.pdf(x, df=dof))\n",
    "\n",
    "accept_region_xs = np.arange(0, critical_value, 0.001)\n",
    "ax.fill_between(accept_region_xs, chi2.pdf(accept_region_xs, df=dof), color='green')\n",
    "reject_region_xs = np.arange(critical_value, 50, 0.001)\n",
    "ax.fill_between(reject_region_xs, chi2.pdf(reject_region_xs, df=dof), color='red')\n",
    "ax.grid()\n",
    "ax.set_title(\"Chi-Squared Acceptance/Rejection Regions for alpha = 0.05\")"
   ]
  },
  {
   "cell_type": "markdown",
   "metadata": {
    "slideshow": {
     "slide_type": "skip"
    }
   },
   "source": [
    "## <img src=\"https://img.icons8.com/dusk/50/000000/flex-biceps.png\" style=\"height:50px;display:inline\"> Uniformly Most Powerful Test (UMP)\n",
    "---\n",
    "* A Uniformly Most Powerful (UMP) test has the most statistical power from the set of all possible alternate hypotheses of the same size $\\alpha$.\n",
    "* The UMP doesn’t always exist, especially when the test has nuisance variables (variables that are irrelevant to your study but that have to be be accounted for).\n",
    "* However, if the UMP does exist, you can use the Neyman-Pearson lemma (NPL) to find it.\n",
    "* A UMP test is usually defined in terms of a uniformly most powerful rejection region (UMPCR) (also called a “critical region”).\n",
    "    * A region $C$ of size $\\alpha$ is the UMPCR for testing a simple null hypothesis against a set of alternate hypotheses if it is the “best” critical region.\n",
    "    * The “best” critical region is one that minimizes the probability of making a Type I or a Type II error.\n",
    "        *  In other words, the UMPCR is the region that gives the smallest chance of making a Type I or II error. It is also the region that gives a UMP test the largest (or equally largest) power function.\n",
    "* Formal definition: a test defined by a critical region $C$ of size $\\alpha$ is a uniformly most powerful (UMP) test if it is a most powerful test against each simple alternative in the alternative hypothesis $H_A$. The critical region $C$ is called a uniformly most powerful critical region of size $\\alpha$.\n",
    "\n",
    "* UMP and the **Neyman-Pearson Lemma**:\n",
    "    * The Neyman-Pearson lemma can tell you the best hypothesis test if you have a simple null hypothesis and a simple alternative hypothesis. \n",
    "        * If you have multiple hypotheses (also called a composite hypothesis), the NPL can be extended to all individual alternate hypotheses. \n",
    "        * Composite hypotheses have multiple options for solutions. For example, $\\sigma^2 > 8$ is a composite hypothesis because it doesn’t specify a value for $\\sigma^2$\n",
    "    * The basic idea is that you test each simple hypothesis in turn to see if it is the UMP out of all possibilities.\n",
    "    * Formally:\n",
    "        * Let $C$ be a class of tests for testing $H_0$: $\\theta \\in \\Theta_0$ versus $H_1$: $\\theta \\in \\Theta^c_1$. A test in class $C$, with power function $\\beta(\\theta)$, is a uniformly most powerful (UMP) class $C$ test if $\\beta(\\theta) \\geq \\beta'(\\theta)$ for every $\\theta \\in \\Theta^c_0$ and every $\\beta'(\\theta)$ that is a power function of a test in class $C$.\n",
    "        * In more simple terms, this is really just telling you that the UMP test is the one with the biggest power function (out of all tests of the same size $\\alpha$). $\\Theta_0$ is the set of all possible values for $\\theta$ under the null hypothesis.\n",
    "        * The same statement can be rewritten using the **likelihood ratio test**. Let’s say you had two simple hypotheses $H_0$: $\\theta = \\theta_0$ and $H_1$:$\\theta = \\theta_1$. In order to find the most powerful test at a certain $\\alpha$ level (with threshold $\\eta$), you would look for the likelihood-ratio test which rejects the null hypothesis in favor of the alternate hypothesis when: $$ \\Lambda(x) = \\frac{L(x|\\theta_0)}{L(x|\\theta_1)} \\leq \\eta $$ Where $$P(\\Lambda(X) \\leq \\eta|H_0) = \\alpha $$\n",
    "            * $L$ is the likelihood function.\n",
    "        \n",
    "* <a href=\"https://online.stat.psu.edu/stat415/lesson/26/26.2\"> Exercise Example </a>"
   ]
  },
  {
   "cell_type": "markdown",
   "metadata": {
    "slideshow": {
     "slide_type": "slide"
    }
   },
   "source": [
    "## <img src=\"https://img.icons8.com/bubbles/100/000000/ask-question.png\" style=\"height:50px;display:inline\"> Which Statistical Test To Use???\n",
    "---\n",
    "<img src=\"./assets/tut_04_how_to_choose.png\" style=\"height:500px\">\n",
    "\n",
    "* Note that for $\\chi^2$ the DOF are for the general case where the data is a table with $r$ rows and $c$ columns. When the data is a single row, as in the above exercise, the DOF is just $n-1$ where $n$ is the number of categories.\n",
    "* <a href=\"http://isoconsultantpune.com/hypothesis-testing/\">Image Source</a>\n",
    "* Video: https://www.youtube.com/watch?v=rulIUAN0U3w"
   ]
  },
  {
   "cell_type": "markdown",
   "metadata": {
    "slideshow": {
     "slide_type": "slide"
    }
   },
   "source": [
    "### <img src=\"https://img.icons8.com/bubbles/50/000000/video-playlist.png\" style=\"height:50px;display:inline\"> Recommended Videos\n",
    "---\n",
    "#### <img src=\"https://img.icons8.com/cute-clipart/64/000000/warning-shield.png\" style=\"height:30px;display:inline\"> Warning!\n",
    "* These videos do not replace the lectures and tutorials.\n",
    "* Please use these to get a better understanding of the material, and not as an alternative to the written material.\n",
    "\n",
    "#### Video By Subject\n",
    "\n",
    "* t-Test - <a href=\"https://www.youtube.com/watch?v=AGh66ZPpOSQ\">T-Tests: A Matched Pair Made in Heaven</a>\n",
    "* $\\chi^2$-Test - <a href=\"https://www.youtube.com/watch?v=WXPBoFDqNVk\">Chi-squared Test</a>"
   ]
  },
  {
   "cell_type": "markdown",
   "metadata": {
    "slideshow": {
     "slide_type": "slide"
    }
   },
   "source": [
    "## <img src=\"https://img.icons8.com/dusk/50/000000/prize.png\" style=\"height:50px;display:inline\"> Credits\n",
    "---\n",
    "* Examples, exercises and definitions from <a href=\"https://probabilitycourse.com/\">Introduction to Probability, Statistics and Random Processes</a> - https://probabilitycourse.com\n",
    "* <a href=\"https://medium.com/@geekrodion/statistics-pearsons-chi-squared-test-95fe36d74c1c\">Pearson's chi-squared test</a> by Rodion Chachura\n",
    "* <a href=\"https://www.statisticshowto.datasciencecentral.com/ump-uniformly-most-powerful/\">Uniformly Most Powerful (UMP) Test </a> by Statistics How To\n",
    "* Icons from <a href=\"https://icons8.com/\">Icon8.com</a> - https://icons8.com\n",
    "* Datasets from <a href=\"https://www.kaggle.com/\">Kaggle</a> - https://www.kaggle.com/"
   ]
  }
 ],
 "metadata": {
  "kernelspec": {
   "display_name": "Python 3",
   "language": "python",
   "name": "python3"
  },
  "language_info": {
   "codemirror_mode": {
    "name": "ipython",
    "version": 3
   },
   "file_extension": ".py",
   "mimetype": "text/x-python",
   "name": "python",
   "nbconvert_exporter": "python",
   "pygments_lexer": "ipython3",
   "version": "3.6.9"
  }
 },
 "nbformat": 4,
 "nbformat_minor": 2
}
