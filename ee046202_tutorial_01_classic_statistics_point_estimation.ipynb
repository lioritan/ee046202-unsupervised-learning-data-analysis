{
 "cells": [
  {
   "cell_type": "markdown",
   "metadata": {
    "slideshow": {
     "slide_type": "slide"
    }
   },
   "source": [
    "# <img src=\"https://img.icons8.com/dusk/64/000000/artificial-intelligence.png\" style=\"height:50px;display:inline\"> EE 046202 - Technion - Unsupervised Learning & Data Analysis\n",
    "---\n",
    "\n",
    "#### <a href=\"https://taldatech.github.io\">Tal Daniel</a>\n",
    "\n",
    "## Tutorial 01 - Classical Methods in Statistical Inference - Point Estimation\n",
    "---"
   ]
  },
  {
   "cell_type": "markdown",
   "metadata": {
    "slideshow": {
     "slide_type": "slide"
    }
   },
   "source": [
    "### <img src=\"https://img.icons8.com/bubbles/50/000000/checklist.png\" style=\"height:50px;display:inline\"> Agenda\n",
    "---\n",
    "* [Statistical Inference - Classical Methods](#-Statistical-Inference---Classical-Methods)\n",
    "* [Point Estimation](#-Point-Estimation)\n",
    "* [Evaluating Estimators](#-Evaluating-Estimators)\n",
    "* [Point Estimation of Mean and Variance](#-Point-Estimation-of-Mean-and-Variance)\n",
    "* [Non-Parametric Point Estimation Using The Tail Sum Formula](#Non-Parametric-Point-Estimation-Using-The-Tail-Sum-Formula)\n",
    "* [Maximum Likelihood Estimator (MLE)](#-Maximum-Likelihood-Estimation-(MLE))\n",
    "    * [KL Divergence and Asymptotic Consequences](#-Asymptotic-Properties-of-MLEs)\n",
    "* [Recommended Videos](#-Recommended-Videos)\n",
    "* [Credits](#-Credits)"
   ]
  },
  {
   "cell_type": "code",
   "execution_count": 1,
   "metadata": {
    "slideshow": {
     "slide_type": "skip"
    }
   },
   "outputs": [],
   "source": [
    "# imports for the tutorial\n",
    "import numpy as np\n",
    "import pandas as pd\n",
    "import matplotlib.pyplot as plt\n",
    "%matplotlib notebook"
   ]
  },
  {
   "cell_type": "markdown",
   "metadata": {
    "slideshow": {
     "slide_type": "slide"
    }
   },
   "source": [
    "## <img src=\"https://img.icons8.com/doodle/48/000000/statistics.png\" style=\"height:50px;display:inline\"> Statistical Inference - Classical Methods\n",
    "---\n",
    "* **Statistical Inference** - a collection of methods and tools to draw conclusions from data that are usually affected by randomness.\n",
    "    * General Setup - there is an unknown quantity that we wish to estimate by observing given data. There are 2 approaches:\n",
    "        * Classical Inference (**Frequentist**) - the unknown quantity $\\theta$ is **deterministic**. We estimate non-random quantities.\n",
    "        * Bayesian Inference - we assume the unknown quantity $\\theta$ is a **random variable** and we make assumptions on the type of distribution. After observing the data, we can update the distribution using Bayes' rule.  We estimate random variables."
   ]
  },
  {
   "cell_type": "markdown",
   "metadata": {
    "slideshow": {
     "slide_type": "subslide"
    }
   },
   "source": [
    "* Examples:\n",
    "    * Predicting the results of an election - we cannot possibly poll the entire population, thus, we pick a random sample from the population to get \"where the wind blows\". Here, the randomness comes from the sampling process. Another source of randomness may be the time frame in which the poll was conducted (one month or one week before the elections).\n",
    "        * In the *classical* approach: $\\theta$ is the percentage of people that vote for candidate A. After polling $n$ randomly chosen voters, where $n_A$ voters said they would vote for candidate A, we may estimate $\\theta$ by: $$ \\hat{\\theta} = \\frac{n_A}{n} $$\n",
    "            * Notice that $\\hat{\\theta}$ is a **random variable** as it depends on the *random* sample. \n",
    "    * Receiver-Transmitter - the receiver may get a corrupted version of messages due to random noise.\n",
    "        * In the *Bayesian* approach, $\\theta \\sim Bernoulli(p)$ is the transmitted bit ({0,1}), where $p$ is the probability to transmit 1. The receiver has to recover $\\theta$ based on the knowledge of the distribution."
   ]
  },
  {
   "cell_type": "markdown",
   "metadata": {
    "slideshow": {
     "slide_type": "slide"
    }
   },
   "source": [
    "## <img src=\"https://img.icons8.com/external-wanicon-lineal-color-wanicon/64/000000/external-weight-supermarket-wanicon-lineal-color-wanicon.png\" style=\"height:50px;display:inline\"> Parametric vs. Non-Parametric Estimation\n",
    "---\n",
    "* Parametric models: the model structure (i.e., distribution) is specified a priori. For example, we assume the data is Normal distributed and we try to find its parameters.\n",
    "    * Typical models: Linear/Logistic Regression.\n",
    "* Non-parametric models: the model structure is not specified a priori but is instead **determined from data**. These models do not lack parameters but that the number the parameters is flexible and not fixed in advance.\n",
    "    * Typical models: histogram, kernel denisity estimation."
   ]
  },
  {
   "cell_type": "markdown",
   "metadata": {},
   "source": [
    "<img src=\"./assets/param_vs_nonparam.png\" style=\"height:400px\">\n",
    "\n",
    "* Note that non-linear SVM (listed in the table) is a non-parametric method, whereas linear SVM (not listed in the table) is a parametric method as it fits linear classification model (linear classifier).\n",
    "* <a href=\"https://stats.stackexchange.com/questions/268638/what-exactly-is-the-difference-between-a-parametric-and-non-parametric-model\">Source 1</a>, <a href=\"https://probml.github.io/pml-book/book0.html\">Source 2</a>"
   ]
  },
  {
   "cell_type": "markdown",
   "metadata": {
    "slideshow": {
     "slide_type": "slide"
    }
   },
   "source": [
    "### <img src=\"https://img.icons8.com/cotton/64/000000/pickup-point.png\" style=\"height:50px;display:inline\"> Point Estimation\n",
    "---\n",
    "* **Assumption** - $\\theta$ is a **fixed**, non-random, quantity.\n",
    "    * Example: $\\theta$ can be the expected value of a random variable $\\theta = \\mathbb{E}[x]$\n",
    "* The data - a random sample $\\{X_i\\}_{i=1}^n$ such that $X_i$'s have the **same distribution** as $X$.\n",
    "* The point estimator - a function of the random sample: $$ \\hat{\\theta} = h(X_1, X_2, ..., X_n) $$\n",
    "    * Note: the estimator may depend *stochastically* on the data, but we will assume the dependence is deterministic.\n",
    "    * Example: if $\\theta = \\mathbb{E}[x]$ then we may choose $\\hat{\\theta}$ to be: $$ \\hat{\\theta} = \\overline{X} = \\frac{X_1 + X_2 + ... + X_n}{n} $$\n",
    "        * Note: this not always the 'best' estimator for the mean\n",
    "* There are many possible estimators for $\\theta$, so how can we make sure we have chosen a good estimator? We need to define ways to evaluate our estimators."
   ]
  },
  {
   "cell_type": "markdown",
   "metadata": {
    "slideshow": {
     "slide_type": "slide"
    }
   },
   "source": [
    "### <img src=\"https://img.icons8.com/cotton/64/000000/rating.png\" style=\"height:30px;display:inline\"> Evaluating Estimators\n",
    "---\n",
    "* **<a style=\"color:red\"> Bias </a>** - the bias of an estimator $B(\\hat{\\theta})$ is a measure of how far is the estimator $\\hat{\\theta}$ from the real $\\theta$ **on average**. A *scalar* (not R.V). Formal definition: $$ B(\\hat{\\theta}) = \\mathbb{E}[\\hat{\\theta}] - \\theta $$\n",
    "    * Note that the bias cannot be actually computed (why is that?).\n",
    "    * Recall that $\\hat{\\theta}$ is a **random variable**.\n",
    "    * **Unbiased** estimator - we would like the bias to be close to 0, which indicates that on average $\\hat{\\theta}$ is close to $\\theta$. $\\hat{\\theta}$ is an *unbiased* estimator of $\\theta$ if: $B(\\hat{\\theta}) = 0 \\rightarrow \\mathbb{E}[\\hat{\\theta}] = \\theta$"
   ]
  },
  {
   "cell_type": "markdown",
   "metadata": {
    "slideshow": {
     "slide_type": "slide"
    }
   },
   "source": [
    "#### <img src=\"https://img.icons8.com/dusk/64/000000/task.png\" style=\"height:30px;display:inline\"> Exercise - Bias of an Estimator\n",
    "---\n",
    "Let $X_1, X_2, ..., X_n$ be a random sample. Assume (always) that the samples are independent and identically distributed (iid).\n",
    "1. Show that the sample mean: $\\hat{\\theta}$ to be: $ \\hat{\\theta} = \\overline{X} = \\frac{X_1 + X_2 + ... + X_n}{n}$ is an *unbiased* estimator of $\\theta=\\mathbb{E}[X_i]$\n",
    "2. If we choose $ \\hat{\\theta}_1 = X_1 $, is the estimator unbiased? Is it a good estimator?"
   ]
  },
  {
   "cell_type": "markdown",
   "metadata": {
    "slideshow": {
     "slide_type": "subslide"
    }
   },
   "source": [
    "#### <img src=\"https://img.icons8.com/dusk/64/000000/idea.png\" style=\"height:30px;display:inline\"> Solution\n",
    "---\n",
    "1. $B(\\hat{\\theta}) = \\mathbb{E}[\\hat{\\theta}] - \\theta = \\mathbb{E}[\\overline{X}] - \\theta =\\mathbb{E}[X_i] - \\theta = 0 $\n",
    "2. If we choose $ \\hat{\\theta}_1 = X_1 $ then $ B(\\hat{\\theta}_1) = \\mathbb{E}[\\hat{\\theta}_1] - \\theta = \\mathbb{E}[X_1] - \\theta = 0$. This is an *unbiased* estimation! But is it good, or is it as good as $\\hat{\\theta} = \\overline{X}$? Not necessarily, as there can be many samples with different values."
   ]
  },
  {
   "cell_type": "markdown",
   "metadata": {
    "slideshow": {
     "slide_type": "slide"
    }
   },
   "source": [
    "* **<a style=\"color:red\"> MSE </a>** (Mean Squared Error) - the MSE of an estimator: $$ MSE(\\hat{\\theta}) = \\mathbb{E}\\big[(\\hat{\\theta} - \\theta)^2 \\big] $$\n",
    "    * Note that the expression $\\hat{\\theta} - \\theta$ is the *error* we make by estimating $\\theta$ with $\\hat{\\theta}$.\n",
    "    * The MSE is a measure of the expected (squared) error. **Smaller** MSE is generally an indication of a better estimator.\n",
    "    * We define the **variance** of the estimator as follows: $Var(\\hat{\\theta}) = \\mathbb{E}\\big[(\\mathbb{E}[\\hat{\\theta}] - \\hat{\\theta})^2 \\big]$\n",
    "    * It holds: (HW) $$ MSE(\\hat{\\theta}) = Var(\\hat{\\theta}) + Bias^2(\\hat{\\theta}) $$"
   ]
  },
  {
   "cell_type": "markdown",
   "metadata": {
    "slideshow": {
     "slide_type": "slide"
    }
   },
   "source": [
    "#### <img src=\"https://img.icons8.com/dusk/64/000000/task.png\" style=\"height:30px;display:inline\"> Exercise - MSE of an Estimator\n",
    "---\n",
    "Let $X_1, X_2, ..., X_n$ be a random sample with mean $\\mathbb{E}[X_i] = \\theta$ and variance $Var(X_i) = \\sigma^2$\n",
    " and consider the following estimators:\n",
    " 1. $\\hat{\\theta}_1 = X_1$\n",
    " 2. $\\hat{\\theta}_2 = \\overline{X} = \\frac{X_1 + X_2 + ... + X_n}{n}$\n",
    " \n",
    "Find $MSE(\\hat{\\theta}_1), MSE(\\hat{\\theta}_2)$ and show that for $n>1$ we have $MSE(\\hat{\\theta}_1) > MSE(\\hat{\\theta}_2)$."
   ]
  },
  {
   "cell_type": "markdown",
   "metadata": {
    "slideshow": {
     "slide_type": "subslide"
    }
   },
   "source": [
    "#### <img src=\"https://img.icons8.com/dusk/64/000000/idea.png\" style=\"height:30px;display:inline\"> Solution\n",
    "---\n",
    "$$ MSE(\\hat{\\theta}_1) = \\mathbb{E}\\big[(\\hat{\\theta}_1 - \\theta)^2 \\big] = \\mathbb{E}\\big[(X_1 - \\mathbb{E}[X_1])^2 \\big] = Var(X_1) = \\sigma^2 $$ \n",
    "\n",
    "* We use the following:\n",
    "    * $\\mathbb{E}[X^2] = Var(X) + (\\mathbb{E}[X])^2 $\n",
    "    * For a constant $b$: $Var(X + b) = Var(X)$\n",
    "    * For a constant $b$: $Var(bX) = b^2Var(X)$\n",
    "    * $\\mathbb{E}[\\overline{X} - \\theta] = \\frac{n\\mathbb{E}[X_i]}{n} - \\mathbb{E}[X_i] = 0$\n",
    "    * $Var[\\overline{X}] = Var[\\frac{1}{n}\\sum_{i=1}^nX_i] = \\frac{1}{n^2}n\\sigma^2 = \\frac{\\sigma^2}{n}$\n",
    "        * Recall that the samples are i.i.d., and the variance of the sum of i.i.d. samples is the sum of the variances.\n",
    "\n",
    "$$ MSE(\\hat{\\theta}_2) = \\mathbb{E}\\big[(\\hat{\\theta}_2 - \\theta)^2 \\big] = \\mathbb{E}\\big[(\\overline{X} - \\theta)^2 \\big] = Var(\\overline{X} - \\theta) + (\\mathbb{E}[\\overline{X} - \\theta])^2 = Var(\\overline{X}) + 0 = \\frac{n\\sigma^2}{n^2} = \\frac{\\sigma^2}{n}$$ \n",
    "        \n",
    "\n",
    "Thus, for $n>1$: $MSE(\\hat{\\theta}_1) > MSE(\\hat{\\theta}_2) $, which means that $\\overline{X}$ is a better estimator."
   ]
  },
  {
   "cell_type": "markdown",
   "metadata": {
    "slideshow": {
     "slide_type": "slide"
    }
   },
   "source": [
    "* **<a style=\"color:red\"> Consistency </a>** - an estimator is consistent if as the sample size $n$ grows, then $\\hat{\\theta}$ converges to the real value of $\\theta$.\n",
    "    * Formally: Let $\\hat{\\theta}_1, \\hat{\\theta}_2, ..., \\hat{\\theta}_n$ be a sequence of point estimators of $\\theta$. We say that $\\hat{\\theta}_n$ is a **consistent** estimator of $\\theta$, if: $$ \\lim_{n \\to \\infty} P(|\\hat{\\theta}_n - \\theta| \\geq \\epsilon) = 0, \\forall \\epsilon >0 $$\n",
    "    * Note: other convergence types yield different definitions of consistency"
   ]
  },
  {
   "cell_type": "markdown",
   "metadata": {
    "slideshow": {
     "slide_type": "slide"
    }
   },
   "source": [
    "#### <img src=\"https://img.icons8.com/dusk/64/000000/task.png\" style=\"height:30px;display:inline\"> Exercise - Consistency of an Estimator\n",
    "---\n",
    "Let $X_1, X_2, ..., X_n$ be a random sample with mean $\\mathbb{E}[X_i] = \\theta$ and variance $Var(X_i) = \\sigma^2$.\n",
    "\n",
    "Show that $\\hat{\\theta}_n = \\overline{X}$ is a *consistent* estimator of $\\theta$.\n",
    "\n",
    "Reminder:\n",
    "* **Chebyshev's inequality**: let $\\mu = \\mathbb{E}[X], \\sigma^2= Var[X]$. Then: $ P(|X- \\mu| > t) \\leq \\frac{\\sigma^2}{t^2}$"
   ]
  },
  {
   "cell_type": "markdown",
   "metadata": {
    "slideshow": {
     "slide_type": "subslide"
    }
   },
   "source": [
    "#### <img src=\"https://img.icons8.com/dusk/64/000000/idea.png\" style=\"height:30px;display:inline\"> Solution\n",
    "---\n",
    "$$ P(|\\hat{\\theta}_n - \\theta| \\geq \\epsilon) = P(|\\overline{X} - \\theta| \\geq \\epsilon) $$\n",
    "\n",
    "* Using **Chebyshev's inequality** and recall that $\\overline{X}$ is a random variable with **mean** $\\theta$:\n",
    "\n",
    "$$ \\rightarrow P(|\\overline{X} - \\theta| \\geq \\epsilon) \\leq \\frac{Var[{\\overline{X}]}}{\\epsilon^2} = \\frac{\\sigma^2}{n} \\cdot \\frac{1}{\\epsilon^2} $$\n",
    "$$ \\rightarrow \\lim_{n \\to \\infty} \\frac{\\sigma^2}{n} \\cdot \\frac{1}{\\epsilon^2} = 0$$"
   ]
  },
  {
   "cell_type": "markdown",
   "metadata": {
    "slideshow": {
     "slide_type": "slide"
    }
   },
   "source": [
    "### <img src=\"https://img.icons8.com/cute-clipart/64/000000/75-percents.png\" style=\"height:50px;display:inline\"> Point Estimation of Mean and Variance \n",
    "---\n",
    "* The sample mean, $\\overline{X}$, is often a reasonable point estimator for the mean. But what about the variance? \n",
    "* Before, we assumed that the variance was known, but when we want to estimate it, we need to take a similar approach.\n",
    "\n",
    "By definition, the variance of a distribution $\\sigma^2$ is: $$ \\sigma^2 = \\mathbb{E}[(X - \\mu)^2] .$$\n",
    "* If we define the following *random variable*: $Y = (X -\\mu)^2$ then the number $\\sigma^2$ is the mean of that variable, that is $\\sigma^2 = \\mathbb{E}[Y]$.\n",
    "* But wait, if $\\sigma^2$ is the mean of $Y$, we have already derived a point estimator for the mean! $$ \\hat{\\sigma}^2 = \\hat{Y} = \\frac{1}{n}\\sum_{i=1}^nY_i = \\frac{1}{n}\\sum_{i=1}^n (X_i -\\mu)^2 $$\n",
    "    * By the **linearity** of the expectation, this is an **unbiased** estimator of the variance.\n",
    "    * From the **weak law of large numbers** this is also a **consistent** estimator of the variance.\n",
    "* The problem? What if we do not know the value of $\\mu$? It is often reasonable to replace $\\mu$ with our point estimate of $\\mu$, which transforms the estimate for $\\sigma^2$ to: $$ \\overline{S}^2 = \\frac{1}{n} \\sum_{i=1}^n (X_i - \\overline{X})^2 =... =\\frac{1}{n}\\big( \\sum_{i=1}^nX_i^2 -n\\overline{X}^2\\big)  $$"
   ]
  },
  {
   "cell_type": "markdown",
   "metadata": {},
   "source": [
    "$$ \\overline{S}^2 = \\frac{1}{n} \\sum_{i=1}^n (X_i - \\overline{X})^2 = \\frac{1}{n}\\sum_{i=1}^n(X_i^2 -2X_i \\overline{X} +\\overline{X}^2)$$\n",
    "$$= \\frac{1}{n}(\\sum_{i=1}^n X_i^2 -2\\overline{X}\\sum_{i=1}^n X_i +\\sum_{i=1}^n \\overline{X}^2)$$\n",
    "$$= \\frac{1}{n}(\\sum_{i=1}^n X_i^2 -2n\\overline{X}^2 +n\\overline{X}^2)$$\n",
    "$$=\\frac{1}{n}\\big( \\sum_{i=1}^nX_i^2 -n\\overline{X}^2\\big)  $$"
   ]
  },
  {
   "cell_type": "markdown",
   "metadata": {
    "slideshow": {
     "slide_type": "subslide"
    }
   },
   "source": [
    "#### <img src=\"https://img.icons8.com/dusk/64/000000/task.png\" style=\"height:30px;display:inline\"> Exercise - Bias of the Variance Estimator\n",
    "---\n",
    "Let $X_1, X_2, ..., X_n$ be a random sample with mean $\\mathbb{E}[X_i] = \\mu$ and variance $Var(X_i) = \\sigma^2$.\n",
    "\n",
    "Suppose that we use: $$ \\overline{S}^2 = \\frac{1}{n}\\big( \\sum_{i=1}^nX_i^2 -n\\overline{X}^2\\big) $$ as our estimate for $\\sigma^2$. Find the bias of the estimator: $$ B[\\overline{S}^2] = \\mathbb{E}[\\overline{S}^2] -\\sigma^2 $$"
   ]
  },
  {
   "cell_type": "markdown",
   "metadata": {
    "slideshow": {
     "slide_type": "subslide"
    }
   },
   "source": [
    "#### <img src=\"https://img.icons8.com/dusk/64/000000/idea.png\" style=\"height:30px;display:inline\"> Solution\n",
    "---\n",
    "* $\\mathbb{E}[\\overline{X}^2] = (\\mathbb{E}[\\overline{X}])^2 + Var(\\overline{X}) = \\mu^2 +\\frac{\\sigma^2}{n}$\n",
    "* $\\mathbb{E}[X^2] = (\\mathbb{E}[X])^2 + Var(X) = \\mu^2 +\\sigma^2$\n",
    "$$ \\mathbb{E}[\\overline{S}^2] = \\frac{1}{n}\\big(\\sum_{i=1}^n\\mathbb{E}[X_i^2] -n \\mathbb{E}[\\overline{X}^2] \\big) $$ $$ =\\frac{1}{n} \\big( n(\\mu^2 +\\sigma^2) -n(\\mu^2 +\\frac{\\sigma^2}{n})\\big) = \\frac{n-1}{n} \\sigma^2 $$ $$ \\rightarrow B[\\overline{S}^2] = \\mathbb{E}[\\overline{S}^2] -\\sigma^2 = -\\frac{\\sigma^2}{n} $$"
   ]
  },
  {
   "cell_type": "markdown",
   "metadata": {
    "slideshow": {
     "slide_type": "subslide"
    }
   },
   "source": [
    "Thus, $ \\overline{S}^2$ is a **biased estimator** of the variance!\n",
    "* If $n$ is very *large*, then the bias is very **small**.\n",
    "* How can we obtain an **unbiased estimator** of the variance?\n",
    "    * By simply multiplying $\\overline{S}^2$ by $\\frac{n}{n-1}$.\n",
    "\n",
    "In conclusion, we define the *unbiased* estimator of the variance, called the **sample variance** to be: $$ S^2 = \\frac{1}{n-1} \\sum_{i=1}^n (X_i - \\overline{X})^2 =... =\\frac{1}{n-1}\\big( \\sum_{i=1}^nX_i^2 -n\\overline{X}^2\\big) $$\n",
    "* The **sample standard deviation** is $S = \\sqrt{S^2}$, which is an **unbiased estimator** of the standard deviation.\n",
    "* Note: a good estimator should be **asymptotically unbiased**. In many cases, for a finite sample, a biased estimator is *better* than an unbiased one! (recall overfitting from ML?). There is nothing special in the lack of bias, *except* asymptotically."
   ]
  },
  {
   "cell_type": "markdown",
   "metadata": {
    "slideshow": {
     "slide_type": "slide"
    }
   },
   "source": [
    "### <img src=\"https://img.icons8.com/ultraviolet/80/000000/tail-of-whale.png\" style=\"height:50px;display:inline\">Non-Parametric Point Estimation Using The Tail Sum Formula\n",
    "---\n",
    "* Every random variable with possible values $\\{0,1,...,n\\}$ is a **counting variable** representing number of events that occur in some list of $n$ events $A_1,..., A_n$.\n",
    "* To see this, let $A_j$ be the event that $(X \\geq j)$. If $X=x$ for $0 \\leq x \\leq n$, then $A_j$ occurs for $1 \\leq j \\leq x$ and $A_j$ **does not** occur for $x<j\\leq n$. So if $X =x$, the number of events $A_j$ that occur is exactly $x$.\n",
    "* The resulting formula for $\\mathbb{E}[X]$ - **The Tail Sum Formula for Expectation**: $$ \\text{For } X \\text{ with possible values } \\{0,1...,n\\}, $$ $$ \\mathbb{E}[X] = \\sum_{j=1}^n P(X\\geq j) $$\n",
    "* Proof outline:\n",
    "    * Define $p_j = P(X=j)$.\n",
    "    * The expectation $\\mathbb{E}[X] = 1p_1 + 2p_2 + 3p_3 +... + np_n$ is the following sum: $$ p_1 $$ $$ +p_2 +p_2 $$ $$ +p_3 +p_3 + p_3 $$ $$ +...+... +... $$ $$ +p_n +p_n +... +p_n $$\n",
    "    * By the addition rule of probabilities, and the assumption that the only possible values of $X$ are $\\{0,1,...,n\\}$, the sum of the first column of $p$ is $P(X\\geq1)$, the sum of the second solumn is $P(X\\geq 2)$ and so on. The sum of the $j^{th}$ column is $P(X\\geq j), 1 \\leq j \\leq n$. The whole sum is the sum of the column sums: $$ \\sum_{j=1}^n P(X\\geq j) $$"
   ]
  },
  {
   "cell_type": "markdown",
   "metadata": {
    "slideshow": {
     "slide_type": "slide"
    }
   },
   "source": [
    "### <img src=\"https://img.icons8.com/dusk/64/000000/maximum-value.png\" style=\"height:50px;display:inline\"> Maximum Likelihood Estimation (MLE)\n",
    "---\n",
    "* The MLE is an estimator that picks the best parameters by maximizing the **likelihood** of the distribution. Recall that when we developed Bayes rule, the likelihood is $p(D|\\theta)$ (which is a function of $\\theta$).\n",
    "    * MLE can be applied to both parametric and non-parameteric models. A parametric example would be estimating the parameters of a distribution (e.g. $\\mu, \\sigma$ of a Gaussian). A non-parametric example would be estimating the density  (like KDE-Kernel Density Estimation), where you don't impose any specific distribution on the data. \n",
    "* Definition: $$\\hat{\\theta}_{MLE} = \\underset{\\theta \\in \\mathcal{R}^{p}}{\\mathrm{argmax}} p(D|\\theta) =  \\underset{\\theta \\in \\mathcal{R}^{p}}{\\mathrm{argmax}} \\log p(D|\\theta)$$\n",
    "    * The last equality is true since the log function is **monotonically increasing**. Therefore if a function $f(x) \\geq 0$, achieves a maximum at $x_1$, then $\\log⁡(f(x))$ also achieves a maximum at $x_1$.\n",
    " \n",
    "* We assume the variables are **I.I.D (independent identically distributed)**. Note that these are the samples.\n",
    "* $L(\\theta) = p(D|\\theta) = p(x_1, x_2, ..., x_n|\\theta) = \\prod_{k=1}^n p(x_k|\\theta)$\n",
    "* $l(\\theta) = \\log \\big(L(\\theta)\\big) = \\sum_{k=1}^{n} \\log p(x_k|\\theta)$\n",
    "    * $\\log(x \\cdot y \\cdot z) = \\log x + \\log y + \\log z$\n",
    "* $\\rightarrow \\hat{\\theta}_{MLE} =  \\underset{\\theta \\in \\mathcal{R}^{p}}{\\mathrm{argmax}} \\{ l(\\theta)\\}$"
   ]
  },
  {
   "cell_type": "markdown",
   "metadata": {
    "slideshow": {
     "slide_type": "slide"
    }
   },
   "source": [
    "#### <img src=\"https://img.icons8.com/dusk/64/000000/task.png\" style=\"height:50px;display:inline\"> Exercise  - MLE for Univariate Gaussian\n",
    "---\n",
    "Given $\\{x_i\\}_{i=1}^n$ i.i.d samples of $X \\sim N(\\mu, \\sigma^2)$, what is the MLE?"
   ]
  },
  {
   "cell_type": "markdown",
   "metadata": {
    "slideshow": {
     "slide_type": "subslide"
    }
   },
   "source": [
    "#### <img src=\"https://img.icons8.com/dusk/64/000000/idea.png\" style=\"height:30px;display:inline\"> Solution\n",
    "---\n",
    "The first thing to ask yourself is, **what are the parameters** in this problem? In our case, the parameters are $\\theta = [\\mu, \\sigma^2]$, it is just a matter of notation.\n",
    "\n",
    "* $p(x_i) = \\frac{1}{\\sqrt{2\\pi \\sigma^2}} e^{- \\frac{1}{2} \\frac{(x_i - \\mu)^2}{\\sigma^2}}$\n",
    "* $L(\\theta) = L(\\mu, \\sigma^2) = p(x_1, x_2, ..., x_n |\\mu, \\sigma^2) = \\prod_{i=1}^n p(x_i|\\theta) = \\frac{1}{(2\\pi \\sigma^2)^{\\frac{n}{2}}} e^{\\frac{-1}{2 \\sigma^2} \\sum_{i=1}^n (x_i - \\mu)^2}$\n",
    "* $l(\\theta) = \\log L(\\theta) = -n (\\log \\pi + \\frac{1}{2} \\log \\sigma^2) - \\frac{1}{2 \\sigma^2} \\sum_{i=1}^n (x_i - \\mu)^2$"
   ]
  },
  {
   "cell_type": "markdown",
   "metadata": {
    "slideshow": {
     "slide_type": "subslide"
    }
   },
   "source": [
    "#### Find the optimal $\\theta$\n",
    "As usual, find the point where the deriviative w.r.t $\\theta$ is 0\n",
    "* $\\frac{\\partial l}{\\partial \\mu} = \\frac{1}{\\sigma^2} \\sum_{i=1}^n (x_i - \\mu) = 0 \\rightarrow \\hat{\\mu}_{MLE} = \\frac{1}{n} \\sum_{i=1}^n x_i$\n",
    "* $\\frac{\\partial l}{\\partial \\sigma^2} = - \\frac{n}{2 \\sigma^2} + \\frac{1}{2\\sigma^4}\\sum_{i=1}^n (x_i - \\mu)^2 = 0 $\n",
    "    * Plug in $\\mu = \\hat{\\mu}_{MLE} \\rightarrow \\hat{\\sigma^2}_{MLE} = \\frac{1}{n}\\sum_{i=1}^n (x_i - \\hat{\\mu}_{MLE})^2 $\n",
    "* Summary: $$ \\hat{\\mu}_{MLE} = \\frac{1}{n} \\sum_{i=1}^n x_i$$ $$\\hat{\\sigma^2}_{MLE} = \\frac{1}{n}\\sum_{i=1}^n (x_i - \\hat{\\mu}_{MLE})^2 $$\n",
    "\n",
    "* Do these look familiar? These are the **empirical** mean and variance!"
   ]
  },
  {
   "cell_type": "code",
   "execution_count": 2,
   "metadata": {
    "slideshow": {
     "slide_type": "skip"
    }
   },
   "outputs": [],
   "source": [
    "def plot_normal_mle():\n",
    "    mu_real = 5\n",
    "    var_real = 36\n",
    "    num_samples= 1000\n",
    "    samples = np.random.normal(mu_real, np.sqrt(var_real), size=(num_samples))\n",
    "\n",
    "    mu_mle = np.sum(samples) / num_samples\n",
    "    var_mle = np.sum(np.square(samples - mu_mle)) / num_samples\n",
    "\n",
    "    print(\"mu mle: \", mu_mle)\n",
    "    print(\"var mle: \", var_mle)\n",
    "\n",
    "    x = np.linspace(-30, 30, 10000)\n",
    "    f_x_mle = (1 / np.sqrt(2 * np.pi * var_mle)) * np.exp(-0.5 * (np.square(x - mu_mle)) / var_mle)\n",
    "\n",
    "    # set bins for histogram\n",
    "    n_bins = 100\n",
    "    bins_edges = np.linspace(samples.min(), samples.max() + 1e-9, n_bins + 1)\n",
    "\n",
    "    fig = plt.figure(figsize=(8, 8))\n",
    "    ax = fig.add_subplot(1, 1, 1)\n",
    "    ax.grid()\n",
    "    ax.set_ylabel('Histogram (PDF)')\n",
    "    ax.set_xlabel('x')\n",
    "\n",
    "    # plot histogram\n",
    "    ax.hist(samples, bins=bins_edges, density=True)\n",
    "    # plot estimation\n",
    "    ax.plot(x, f_x_mle, linewidth=3, color='red')"
   ]
  },
  {
   "cell_type": "code",
   "execution_count": 3,
   "metadata": {
    "scrolled": false,
    "slideshow": {
     "slide_type": "slide"
    }
   },
   "outputs": [
    {
     "name": "stdout",
     "output_type": "stream",
     "text": [
      "mu mle:  4.6470617816063315\n",
      "var mle:  35.021587256422\n"
     ]
    },
    {
     "data": {
      "image/png": "[encoded data removed]",
      "text/plain": [
       "<Figure size 576x576 with 1 Axes>"
      ]
     },
     "metadata": {
      "needs_background": "light"
     },
     "output_type": "display_data"
    }
   ],
   "source": [
    "# let's see how the MLE performs\n",
    "plot_normal_mle()"
   ]
  },
  {
   "cell_type": "markdown",
   "metadata": {
    "slideshow": {
     "slide_type": "slide"
    }
   },
   "source": [
    "#### <img src=\"https://img.icons8.com/dusk/64/000000/task.png\" style=\"height:30px;display:inline\"> Exercise - MLE for m-Dimensional Gaussian\n",
    "---\n",
    "Given $\\{x_i\\}_{i=1}^n$ i.i.d samples of $X \\sim N(\\mu, \\Sigma)$, what is the MLE?"
   ]
  },
  {
   "cell_type": "markdown",
   "metadata": {
    "slideshow": {
     "slide_type": "subslide"
    }
   },
   "source": [
    "#### <img src=\"https://img.icons8.com/dusk/64/000000/idea.png\" style=\"height:30px;display:inline\"> Solution\n",
    "---\n",
    "The final results are pretty much the same, but with vectors and matrices, though the math is a little more complicated.\n",
    "$$ \\hat{\\overline{\\mu}}_{MLE} = \\frac{1}{n} \\sum_{i=1}^n \\overline{x_i} $$\n",
    "$$ \\hat{\\Sigma}_{MLE} = \\frac{1}{n} \\sum_{i=1}^n (\\overline{x_i} - \\hat{\\overline{\\mu}}_{MLE}) (\\overline{x_i} - \\hat{\\overline{\\mu}}_{MLE})^{T}$$"
   ]
  },
  {
   "cell_type": "markdown",
   "metadata": {
    "slideshow": {
     "slide_type": "subslide"
    }
   },
   "source": [
    "#### <img src=\"https://img.icons8.com/dusk/64/000000/scissors.png\" style=\"height:30px;display:inline\"> Vector & Matrix Deriviatives\n",
    "---\n",
    "* $\\nabla_x Ax = A^{T}$\n",
    "* $\\nabla_x x^{T} A x = (A + A^{T}) x$ \n",
    "* $\\frac{\\partial}{\\partial A} \\ln |A| = A^{-T}$\n",
    "* $\\frac{\\partial}{\\partial A} Tr[AB] = B^{T}$\n",
    "\n",
    "Using the above, we will use the following:\n",
    "1. $\\nabla_{\\mu} {\\mu}^{T} \\Sigma^{-1} x_i = \\Sigma^{-1} x_i$ \n",
    "2. $\\nabla_{\\mu} {\\mu}^{T} \\Sigma^{-1} \\mu = (\\Sigma^{-1} + {\\Sigma}^{-T}) \\mu$\n",
    "3. $\\frac{\\partial}{\\partial \\Sigma^{-1}} \\ln |\\Sigma^{-1}| = \\Sigma^{T} = \\Sigma$\n",
    "4. $\\frac{\\partial}{\\partial \\Sigma^{-1}} Tr[\\Sigma^{-1} \\sum_{i=1}^n (\\overline{x_i} - \\overline{\\mu}) (\\overline{x_i} - \\overline{\\mu})^{T}] = \\sum_{i=1}^n (\\overline{x_i} - \\overline{\\mu}) (\\overline{x_i} - \\overline{\\mu})^{T}$"
   ]
  },
  {
   "cell_type": "markdown",
   "metadata": {
    "slideshow": {
     "slide_type": "subslide"
    }
   },
   "source": [
    "#### Solve for the d-dimensional case\n",
    "* $p(x|\\mu, \\Sigma) = \\frac{1}{(2\\pi)^{\\frac{nd}{2}} |\\Sigma|^{\\frac{n}{2}}} e^{- \\frac{1}{2}\\sum_{i=1}^n (x_i - \\mu)^{T} \\Sigma^{-1} (x_i - \\mu)}$\n",
    "* $\\ln p(x|\\mu, \\Sigma) \\propto -\\frac{n}{2} \\ln |\\Sigma^{-1}| -\\frac{1}{2} \\sum_{i=1}^n (\\overline{x_i} - \\overline{\\mu})^{T} \\Sigma^{-1} (\\overline{x_i} - \\overline{\\mu}) $\n",
    "* $\\nabla_{\\mu} \\sum_{i=1}^n (\\overline{x_i} - \\overline{\\mu})^{T} \\Sigma^{-1} (\\overline{x_i} - \\overline{\\mu}) = \\sum_{i=1}^{n} (-2\\Sigma^{-1} \\overline{x_i} + (\\Sigma^{-1} + {\\Sigma}^{-T}) \\mu) = 0 $ $$ \\rightarrow \\hat{\\overline{\\mu}}_{MLE} = \\frac{1}{n} \\sum_{i=1}^n \\overline{x_i} $$\n",
    "\n",
    "* **The Trace Trick** - $\\sum_{i=1}^n (\\overline{x_i} - \\overline{\\mu})^{T} \\Sigma^{-1} (\\overline{x_i} - \\overline{\\mu}) = \\sum_{i=1}^n \\textit{Trace}\\big((\\overline{x_i} - \\overline{\\mu})^{T} \\Sigma^{-1} (\\overline{x_i} - \\overline{\\mu})\\big) = \\textit{Trace}\\big(\\Sigma^{-1} \\sum_{i=1}^n (\\overline{x_i} - \\overline{\\mu}) (\\overline{x_i} - \\overline{\\mu})^{T} \\big)$\n",
    "* $\\frac{\\partial}{\\partial \\Sigma^{-1}}\\big( \\frac{n}{2} \\ln |\\Sigma^{-1}| -\\frac{1}{2} \\sum_{i=1}^n (\\overline{x_i} - \\overline{\\mu})^{T} \\Sigma^{-1} (\\overline{x_i} - \\overline{\\mu}) \\big) = \\frac{\\partial}{\\partial \\Sigma^{-1}}\\big( \\frac{n}{2} \\ln |\\Sigma^{-1}| -\\frac{1}{2} Tr[\\Sigma^{-1} \\sum_{i=1}^n (\\overline{x_i} - \\overline{\\mu}) (\\overline{x_i} - \\overline{\\mu})^{T}] \\big) = $ $$ \\frac{n}{2} \\Sigma - \\frac{1}{2} \\sum_{i=1}^n (\\overline{x_i} - \\overline{\\mu}) (\\overline{x_i} - \\overline{\\mu})^{T} = 0 $$ $$ \\rightarrow \\hat{\\Sigma}_{MLE} = \\frac{1}{n} \\sum_{i=1}^n (\\overline{x_i} - \\hat{\\overline{\\mu}}_{MLE}) (\\overline{x_i} - \\hat{\\overline{\\mu}}_{MLE})^{T} $$"
   ]
  },
  {
   "cell_type": "markdown",
   "metadata": {
    "slideshow": {
     "slide_type": "slide"
    }
   },
   "source": [
    "### <img src=\"https://img.icons8.com/dusk/64/000000/infinity.png\" style=\"height:50px;display:inline\"> Asymptotic Properties of MLEs\n",
    "---\n",
    "Let $X_1, X_2, ..., X_n$ be a random sample from a distribution with a parameter $\\theta$. Let $\\hat{\\theta}_{ML}$ denote the MLE of $\\theta$. Then (under some conditions):\n",
    "\n",
    "1.  $\\hat{\\theta}_{ML}$ is **asymptotaically consistent**: $$ \\lim_{n \\to \\infty} P(|\\hat{\\theta}_{ML} - \\theta| \\geq \\epsilon) = 0, \\forall \\epsilon >0 $$\n",
    "2. $\\hat{\\theta}_{ML}$ is **asymptotaically unbiased**: $$ \\lim_{n \\to \\infty} \\mathbb{E}[\\hat{\\theta}_{ML}] = \\theta $$\n",
    "3. As $n$ becomes large, $\\hat{\\theta}_{ML}$ is approximately a **normal random variable**, that is, the random variable: $$ \\frac{\\hat{\\theta}_{ML} - \\theta}{\\sqrt{Var(\\hat{\\theta}_{ML})}} $$ **convereges in distribution** to $\\mathcal{N}(0,1) $"
   ]
  },
  {
   "cell_type": "markdown",
   "metadata": {
    "slideshow": {
     "slide_type": "slide"
    }
   },
   "source": [
    "#### <img src=\"https://img.icons8.com/dusk/64/000000/task.png\" style=\"height:30px;display:inline\"> Exercise - Asymptotic Consequences of MLE When Choosing The Wrong Model\n",
    "---\n",
    "Definitions:\n",
    "* **Kullback-Leibler (KL) Divergence** - defined to be $$ KL(p(x)||q(x)) = \\underset{x \\sim p(x)}{\\mathbb{E}}[\\log \\frac{p(x)}{q(x)}],$$ it is a way to measure \"distance between distribution\" (how far is $p(x)$ from $q(x)$).\n",
    "* **Entropy** - defined to be $$ H(p(x)) = -\\underset{x \\sim p(x)}{\\mathbb{E}}[\\log(p(x))] $$\n",
    "* **The Weak Law of Large Numbers** - states that if you have a sample of independent and identically distributed random variables, as the sample size grows larger, the *sample mean* will tend toward the population mean $$ \\lim_{n \\to \\infty} P(|\\overline{x}_n - \\mu | \\geq \\epsilon) = 0 $$\n",
    "    * In words: as the sample size $n$ grows to infinity, the probability that the sample mean $\\overline{x}_n$ differs from the population mean $\\mu$ by some small amount $ \\epsilon$ is equal to 0.\n",
    "\n",
    "\n",
    "Let the data $\\mathcal{D}$ be drawn i.i.d. from a distribution $p(x)$ which is not necessarily contained in the parametric model (i.e. **there is no $\\theta$ for which $f(x;\\theta) = p(x), \\forall x$**). What is the *upper bound* for the MLE as $N \\to \\infty$? Use the definitions above to guide you and use the *log* of the estimator ($\\log (\\prod_{i=0}^{N-1}f(x_i;\\theta))$)"
   ]
  },
  {
   "cell_type": "markdown",
   "metadata": {
    "slideshow": {
     "slide_type": "subslide"
    }
   },
   "source": [
    "#### <img src=\"https://img.icons8.com/dusk/64/000000/idea.png\" style=\"height:30px;display:inline\"> Solution\n",
    "---\n",
    "We will use the above definitions to derive another form of the estimator. For every $\\theta$ it holds that:\n",
    "$$ \\log(\\prod_{i=0}^{N-1}f(x_i;\\theta)) = N\\big(\\frac{1}{N}\\sum_{i=0}^{N-1}\\log(f(x_i;\\theta))\\big) $$\n",
    "Using the **weak law of large numbers** as $N \\to \\infty$: $$ \\underset{N \\to \\infty}{\\rightarrow} N \\cdot \\mathbb{E}_{x \\sim p(x)}[\\log(f(x;\\theta))] =  $$ $$ = N \\cdot \\mathbb{E}[\\log(\\frac{f(x;\\theta)p(x)}{p(x)})] $$ $$ =N \\cdot \\mathbb{E}[\\log(\\frac{f(x;\\theta)}{p(x)})] +  N \\cdot \\mathbb{E}[\\log(p(x))] =  $$ $$ -N \\cdot KL(p(x)||f(x; \\theta)) -N \\cdot H(p(x)) $$\n",
    "Thus, the MLE takes the form:  $$ \\lim_{N \\to \\infty} \\theta_{MLE} = \\lim_{N \\to \\infty} argmax_{\\theta} \\log(L(\\theta)) $$ $$ = argmax_{\\theta} \\big( -KL(p(x)||f(x; \\theta)) - H(p(x)) \\big) = argmin_{\\theta} KL(p(x)||f(x; \\theta))  $$ \n",
    "\n",
    "* What is the meaning of this?\n",
    "    * In the limit of **large sample size**, the MLE criterion is equivalent to find the model which is *\"closest\"* (in the KL divergence sense) from the true distribution. That is, when the model cannot be really parameterized with $\\theta$ we are not guaranteed to converge to the true distribution, even for infinite number of samples!\n",
    "    * KL divergence satisfies: $KL(p(x)||q(x)) \\geq 0$, where equality holds $\\iff p(x) = q(x)$. That means that for evey $\\theta$ the likelihood $l(\\theta)$ satisfies $ l(\\theta) \\leq -H(p(x)) $. In the case of model mis-specification and in the limit of large sample size, the log-likelihood estimation cannot reach its maximal value (or the negative log-likelihood cannot reach it minimal value), the **entropy** is the lower bound (to the negative log-likelihood) or, the upper-bound of the log-likelihood is the negative entropy.\n",
    "        * Note that we assumed that **we can't** model $p(x)$, and thus it is independent on $\\theta$. If we could model it with $\\theta$, then $p(x)$ would have been dependent on $\\theta$ as well, and the entropy would have been dependent on $\\theta$ (and we couldn't solve this, as we don't know $p(x; \\theta)$)."
   ]
  },
  {
   "cell_type": "code",
   "execution_count": 4,
   "metadata": {
    "slideshow": {
     "slide_type": "skip"
    }
   },
   "outputs": [],
   "source": [
    "def plot_misspecified_mle():\n",
    "    mu_real_1 = -5\n",
    "    mu_real_2 = 5\n",
    "    var_real = 4.0\n",
    "    num_samples = 1000\n",
    "    samples = [np.random.normal(mu_real_1, np.sqrt(var_real), size=(num_samples // 2)),\n",
    "               np.random.normal(mu_real_2, np.sqrt(var_real), size=(num_samples // 2))]\n",
    "    samples = np.concatenate(samples, axis=-1)\n",
    "\n",
    "    mu_mle = np.sum(samples) / num_samples\n",
    "    var_mle = np.sum(np.square(samples - mu_mle)) / num_samples\n",
    "\n",
    "    print(\"mu mle: \", mu_mle)\n",
    "    print(\"var mle: \", var_mle)\n",
    "\n",
    "    x = np.linspace(-15, 15, 10000)\n",
    "    f_x_mle = (1 / np.sqrt(2 * np.pi * var_mle)) * np.exp(-0.5 * (np.square(x - mu_mle)) / var_mle)\n",
    "\n",
    "    # set bins for histogram\n",
    "    n_bins = 100\n",
    "    bins_edges = np.linspace(samples.min(), samples.max() + 1e-9, n_bins + 1)\n",
    "\n",
    "    fig = plt.figure(figsize=(8, 8))\n",
    "    ax = fig.add_subplot(1, 1, 1)\n",
    "    ax.grid()\n",
    "    ax.set_ylabel('Histogram (PDF)')\n",
    "    ax.set_xlabel('x')\n",
    "\n",
    "    # plot histogram\n",
    "    ax.hist(samples, bins=bins_edges, density=True)\n",
    "    # plot estimation\n",
    "    ax.plot(x, f_x_mle, linewidth=3, color='red')"
   ]
  },
  {
   "cell_type": "code",
   "execution_count": 5,
   "metadata": {
    "slideshow": {
     "slide_type": "subslide"
    }
   },
   "outputs": [
    {
     "name": "stdout",
     "output_type": "stream",
     "text": [
      "mu mle:  0.04869170509203468\n",
      "var mle:  30.252569170292713\n"
     ]
    },
    {
     "data": {
      "image/png": "[encoded data removed]",
      "text/plain": [
       "<Figure size 576x576 with 1 Axes>"
      ]
     },
     "metadata": {
      "needs_background": "light"
     },
     "output_type": "display_data"
    }
   ],
   "source": [
    "plot_misspecified_mle()"
   ]
  },
  {
   "cell_type": "markdown",
   "metadata": {
    "slideshow": {
     "slide_type": "slide"
    }
   },
   "source": [
    "### <img src=\"https://img.icons8.com/bubbles/50/000000/video-playlist.png\" style=\"height:50px;display:inline\"> Recommended Videos\n",
    "----\n",
    "#### <img src=\"https://img.icons8.com/cute-clipart/64/000000/warning-shield.png\" style=\"height:30px;display:inline\"> Warning!\n",
    "* These videos do not replace the lectures and tutorials.\n",
    "* Please use these to get a better understanding of the material, and not as an alternative to the written material.\n",
    "\n",
    "#### Video By Subject\n",
    "\n",
    "* Point Estimation - <a href=\"https://www.youtube.com/watch?v=Ieicfj6LYyQ&t=181s\"> MathNStats - Point Estimates </a>\n",
    "* Maximum Likelihood Estimation (MLE)\n",
    "    * Simple Version (6 min) - <a href=\"https://www.youtube.com/watch?v=XepXtl9YKwc\">StatQuest</a>\n",
    "    * Complete Lecture (50 min) - <a href=\"https://www.youtube.com/watch?v=RIawrYLVdIw&t=2263s\">Cornell CS4780</a>\n",
    "* Evaluating Estimators - Bias & MSE - <a href=\"https://www.youtube.com/watch?v=XqWfeND04vs\"> Actuarial Education </a>\n",
    "* Entropy, Cross-Entropy, KL-Divergence - <a href=\"https://www.youtube.com/watch?v=ErfnhcEV1O8\">by Aurélien Géron </a>"
   ]
  },
  {
   "cell_type": "markdown",
   "metadata": {
    "slideshow": {
     "slide_type": "skip"
    }
   },
   "source": [
    "## <img src=\"https://img.icons8.com/dusk/64/000000/prize.png\" style=\"height:50px;display:inline\"> Credits\n",
    "---\n",
    "* Examples, exercises and definitions from <a href=\"https://probabilitycourse.com/\">Introduction to Probability, Statistics and Random Processes</a> - https://probabilitycourse.com\n",
    "* Icons from <a href=\"https://icons8.com/\">Icon8.com</a> - https://icons8.com\n",
    "* Datasets from <a href=\"https://www.kaggle.com/\">Kaggle</a> - https://www.kaggle.com/"
   ]
  }
 ],
 "metadata": {
  "kernelspec": {
   "display_name": "Python 3",
   "language": "python",
   "name": "python3"
  },
  "language_info": {
   "codemirror_mode": {
    "name": "ipython",
    "version": 3
   },
   "file_extension": ".py",
   "mimetype": "text/x-python",
   "name": "python",
   "nbconvert_exporter": "python",
   "pygments_lexer": "ipython3",
   "version": "3.6.9"
  }
 },
 "nbformat": 4,
 "nbformat_minor": 2
}
