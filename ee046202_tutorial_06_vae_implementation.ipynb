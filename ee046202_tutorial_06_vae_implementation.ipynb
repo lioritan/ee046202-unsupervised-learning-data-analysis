{
 "cells": [
  {
   "cell_type": "markdown",
   "metadata": {
    "slideshow": {
     "slide_type": "slide"
    }
   },
   "source": [
    "# <img src=\"https://img.icons8.com/dusk/64/000000/artificial-intelligence.png\" style=\"height:50px;display:inline\"> EE 046202 - Technion - Unsupervised Learning & Data Analysis\n",
    "---\n",
    "\n",
    "#### <a href=\"https://taldatech.github.io\">Tal Daniel</a>\n",
    "\n",
    "## Tutorial 06 - Deep Unsupervised Learning - Variational Autoencoder (VAE) Implementation\n",
    "\n",
    "---"
   ]
  },
  {
   "cell_type": "markdown",
   "metadata": {
    "slideshow": {
     "slide_type": "slide"
    }
   },
   "source": [
    "### <img src=\"https://img.icons8.com/bubbles/50/000000/checklist.png\" style=\"height:50px;display:inline\"> Agenda\n",
    "---\n",
    "\n",
    "* [Recap](#-Recap)\n",
    "* [Implementation in PyTorch](#-VAE-Implementation)\n",
    "    * [Architecture](#-VAE-Implementation)\n",
    "    * [Reparameterization Trick](#-The-Reparameterization-Trick)\n",
    "    * [Encoder](#-Encoder)\n",
    "    * [Decoder](#-Decoder)\n",
    "    * [Assembling the VAE](#-VAE,-Assemble!-(Putting-It-All-Together))\n",
    "    * [Loss Function](#-The-Loss-Function)\n",
    "* [Example on MNIST](#-Example---VAE-On-The-MNIST-Dataset)\n",
    "    * [Interpolation in the Latent Space](#-Interpolation-in-the-Latent-Space)\n",
    "    * [t-SNE on the Latent Space](#-Latent-Space-Representation-with-t-SNE)\n",
    "* [Recommended Videos](#-Recommended-Videos)\n",
    "* [Credits](#-Credits)"
   ]
  },
  {
   "cell_type": "code",
   "execution_count": 1,
   "metadata": {
    "slideshow": {
     "slide_type": "skip"
    }
   },
   "outputs": [],
   "source": [
    "# imports for the tutorial\n",
    "import numpy as np\n",
    "import pandas as pd\n",
    "import matplotlib.pyplot as plt\n",
    "from mpl_toolkits.mplot3d import Axes3D\n",
    "import time\n",
    "\n",
    "# pytorch imports\n",
    "import torch\n",
    "import torch.nn as nn\n",
    "import torch.nn.functional as F\n",
    "from torch.utils.data import DataLoader, Dataset\n",
    "import torchvision\n",
    "\n",
    "# sklearn imports\n",
    "from sklearn.manifold import TSNE"
   ]
  },
  {
   "cell_type": "markdown",
   "metadata": {
    "slideshow": {
     "slide_type": "slide"
    }
   },
   "source": [
    "## <img src=\"https://img.icons8.com/dusk/64/000000/rewind.png\" style=\"height:50px;display:inline\"> Recap\n",
    "---\n",
    "#### Notations\n",
    "---\n",
    "1. $X$ - the data we want to model (e.g. images of dogs)\n",
    "2. $z$ - the latent variable (this is the *imagination*, the hidden variable that describes the data, we have seen this before)\n",
    "3. $p_{\\theta}(X)$ - the parameterized probability distribution of the data (e.g. the distribution of all dogs' images in the world). Also, the **evidence**.\n",
    "4. $p(z)$ - the probability distribution of the latent variables (the source of the imagination, the brain in this case or the distribution of dogs' images feaures/hidden representations). The **prior**.\n",
    "5. $p_{\\theta}(X|z)$ - the parameterized distribution of data generation **given latent variable** (given the features we want the dog to have, the probability of images that satisfy these conditions, turning imagination to real image). The **likelihood** (remember MLE?).\n",
    "6. $p_{\\theta}(z|X)$ - the parameterized distribution of latent variables **given data** (given the image of dog, the probability of latent features that satisfy this image). The **posterior**."
   ]
  },
  {
   "cell_type": "markdown",
   "metadata": {
    "slideshow": {
     "slide_type": "subslide"
    }
   },
   "source": [
    "#### Objective\n",
    "----\n",
    "* The optimization problem: make the simpler distribution, $q_{\\phi}(z|X)$ as closer as possible to $p_{\\theta}(z|X)$.\n",
    "* The **KL-divergence** is formulated as follows: $$ D_{KL}[q_{\\phi}(z|X) || p_{\\theta}(z|X)] = \\mathbb{E}_{q_{\\phi}(z|X)}[\\log \\frac{q_{\\phi}(z|X)}{p_{\\theta}(z|X)}]  $$\n",
    "    * $\\mathbb{E}_{q_{\\phi}(z|X)}[\\log \\frac{q_{phi}(z|X)}{p_{\\theta}(z|X)}] = \\sum_z q_{phi}(z|X) \\log\\frac{q_{\\phi}(z|X)}{p_{\\theta}(z|X)} $\n",
    "$$\\mathbb{E}_{q_{\\phi}(z|X)}[\\log \\frac{q_{\\phi}(z|X)}{p_{\\theta}(z|X)}] =  \\mathbb{E}_{q_{\\phi}(z|X)}[\\log q_{\\phi}(z|X) - \\log p_{\\theta}(z|X)]$$\n",
    "\n",
    "Using **Bayes' Rule**:\n",
    "\n",
    "$$\\rightarrow D_{KL}[q_{\\phi}(z|X) || p_{\\theta}(z|X)] =  \\mathbb{E}_{q_{\\phi}(z|X)}[\\log q_{\\phi}(z|X) - \\log \\frac{p_{\\theta}(X|z)p(z)}{p_{\\theta}(X)}]$$ $$ = \\mathbb{E}_{q_{\\phi}(z|X)}[\\log q_{\\phi}(z|X) - (\\log p_{\\theta}(X|z) + \\log p(z) - \\log p_{\\theta}(X))] $$ $$ = \\mathbb{E}_{q_{\\phi}(z|X)}[\\log q_{\\phi}(z|X) -\\log p_{\\theta}(X|z) - \\log p(z) + \\log p_{\\theta}(X))] $$\n",
    "\n",
    "* Notice that the expecation is over $z$ and $p_{\\theta}(X)$ does not depend on $z$:\n",
    "\n",
    "$$\\rightarrow  D_{KL}[q_{\\phi}(z|X) || p_{\\theta}(z|X)] = \\mathbb{E}_{q_{\\phi}(z|X)}[\\log q_{\\phi}(z|X) -\\log p_{\\theta}(X|z) - \\log p(z)] + \\log p_{\\theta}(X)$$ $$ \\log p_{\\theta}(X) \\geq \\mathbb{E}_{q_{\\phi}(z|X)}[\\log p_{\\theta}(X|z)] - D_{KL}[q_{\\phi}(z|X) || p(Z)] = ELBO $$\n",
    "\n",
    "* **Loss Function**: $$ \\mathcal{L}_{VAE} = -ELBO(x;\\phi, \\theta) = -\\mathbb{E}_{q_{\\phi}(z|X)}[\\log p_{\\theta}(X|z)] + D_{KL}[q_{\\phi}(z|X)|| p(z)]  $$\n",
    "* **KL-Divergence Closed-form Solution**: \n",
    "    * Having:\n",
    "        * $z \\sim \\mathcal{N}(0,1)$\n",
    "        * $z|X \\sim \\mathcal{N}(\\mu(X), \\Sigma(X))$\n",
    "\n",
    "        $$ D_{KL}[q_{\\phi}(z|X)|| p_{\\theta}(z)] = \\frac{1}{2}\\sum_{i=1}^d[\\Sigma(X)_{ii} +\\mu(X)_i^2 -1 -\\log \\Sigma(X)_{ii}] $$\n",
    "*  **Reconstruction Loss**: $\\mathbb{E}_{q_{\\phi}(z|X)}[\\log p_{\\theta}(X|z)]$ - this is also called the **log-likelihood** of $X$ under $z$. Maximizing the likelihood is a well-known concept from Machine Learning course, as **Maximum Likelihood Estimation (MLE)**. You have seen this many times in *supervised* learning settings like *Linear Regression* or *Logistic Regression*. Maximizing the likelihood is equivalent to *minimizing* the **negative log-likelihood** (NLL)."
   ]
  },
  {
   "cell_type": "markdown",
   "metadata": {
    "slideshow": {
     "slide_type": "slide"
    }
   },
   "source": [
    "<img src=\"./assets/vae_lilian_weng.png\" style=\"height:300px\">\n",
    "\n",
    "* <a href=\"https://lilianweng.github.io/lil-log/2018/08/12/from-autoencoder-to-beta-vae.html#beta-vae\">Image by Lilian Weng</a>"
   ]
  },
  {
   "cell_type": "markdown",
   "metadata": {
    "slideshow": {
     "slide_type": "slide"
    }
   },
   "source": [
    "### <img src=\"https://img.icons8.com/color/96/000000/code.png\" style=\"height:50px;display:inline\"> VAE Implementation\n",
    "---\n",
    "We will now implement the VAE components using PyTorch. The general structure of the network: \n",
    "<img src='./assets/tut_xv_nn_arch.png' style=\"height:400px\">\n",
    "And remember that we need to implement the **reparameterization trick**:\n",
    "<img src='./assets/tut_xv_reparameter.png' style=\"height:300px\">\n",
    "\n",
    "* Note: we are going to use a simple architecture since we are going to work with a simple dataset, but more difficult datasets require more complex architectures that use convolutional layers, batch normalization layers and etc..."
   ]
  },
  {
   "cell_type": "markdown",
   "metadata": {
    "slideshow": {
     "slide_type": "slide"
    }
   },
   "source": [
    "#### <img src=\"https://img.icons8.com/office/80/000000/magic-lamp.png\" style=\"height:30px;display:inline\"> The Reparameterization Trick\n",
    "---\n",
    "We will first implement a function that takes the mean $\\mu(x)$ and the variance $\\Sigma(X)$ and outputs $z \\sim \\mathcal{N}(\\mu(X), \\Sigma(X))$ using the reparemeterization trick so that we can backpropagate the gradients."
   ]
  },
  {
   "cell_type": "code",
   "execution_count": 2,
   "metadata": {
    "slideshow": {
     "slide_type": "subslide"
    }
   },
   "outputs": [],
   "source": [
    "# reparametrization trick\n",
    "def reparameterize(mu, logvar, device=torch.device(\"cpu\")):\n",
    "    \"\"\"\n",
    "    This function applies the reparameterization trick:\n",
    "    z = mu(X) + sigma(X)^0.5 * epsilon, where epsilon ~ N(0,I)\n",
    "    :param mu: mean of x\n",
    "    :param logvar: log variance of x\n",
    "    :param device: device to perform calculations on\n",
    "    :return z: the sampled latent variable\n",
    "    \"\"\"\n",
    "    std = torch.exp(0.5 * logvar)\n",
    "    eps = torch.randn_like(std).to(device)\n",
    "    return mu + eps * std"
   ]
  },
  {
   "cell_type": "markdown",
   "metadata": {
    "slideshow": {
     "slide_type": "slide"
    }
   },
   "source": [
    "#### <img src=\"https://img.icons8.com/dusk/64/000000/lock-2.png\" style=\"height:30px;display:inline\"> Encoder\n",
    "---\n",
    "* The encoder takes the high-dimensional data, $X \\in \\mathcal{R}^D$, and encodes in a lower-dimensional latent space vector, $z \\in \\mathcal{R}^d$, that is, we model $q_{\\phi}(z|X)$. \n",
    "* Since we are in a *variational* environment, and we model a distrubution $q_{\\phi}$, the outputs of the encoder are the mean, $\\mu(X) \\in \\mathcal{R}^d$ and the co-variance, $\\Sigma(X) \\in \\mathcal{R}^d$. \n",
    "    * Remember that since we assume independce between the latent variables, the co-variance matrix is diagonal and we can represent it as a vector in $\\mathcal{R}^d$, where each value represents the variance (the $ii^{th}$ element in the co-variance matrix)."
   ]
  },
  {
   "cell_type": "code",
   "execution_count": 3,
   "metadata": {
    "slideshow": {
     "slide_type": "subslide"
    }
   },
   "outputs": [],
   "source": [
    "# encoder - q_{\\phi}(z|X)\n",
    "class VaeEncoder(torch.nn.Module):\n",
    "    \"\"\"\n",
    "       This class builds the encoder for the VAE\n",
    "       :param x_dim: input dimensions\n",
    "       :param hidden_size: hidden layer size\n",
    "       :param z_dim: latent dimensions\n",
    "       :param device: cpu or gpu\n",
    "       \"\"\"\n",
    "\n",
    "    def __init__(self, x_dim=28*28, hidden_size=256, z_dim=10, device=torch.device(\"cpu\")):\n",
    "        super(VaeEncoder, self).__init__()\n",
    "        self.x_dim = x_dim\n",
    "        self.hidden_size = hidden_size\n",
    "        self.z_dim = z_dim\n",
    "        self.device = device\n",
    "        \n",
    "        self.features = nn.Sequential(nn.Linear(x_dim, self.hidden_size),\n",
    "                                      nn.ReLU())\n",
    "        \n",
    "        self.fc1 = nn.Linear(self.hidden_size, self.z_dim, bias=True)  # fully-connected to output mu\n",
    "        self.fc2 = nn.Linear(self.hidden_size, self.z_dim, bias=True)  # fully-connected to output logvar\n",
    "\n",
    "\n",
    "    def bottleneck(self, h):\n",
    "        \"\"\"\n",
    "        This function takes features from the encoder and outputs mu, log-var and a latent space vector z\n",
    "        :param h: features from the encoder\n",
    "        :return: z, mu, log-variance\n",
    "        \"\"\"\n",
    "        mu, logvar = self.fc1(h), self.fc2(h)\n",
    "        # use the reparametrization trick as torch.normal(mu, logvar.exp()) is not differentiable\n",
    "        z = reparameterize(mu, logvar, device=self.device)\n",
    "        return z, mu, logvar\n",
    "\n",
    "    def forward(self, x):\n",
    "        \"\"\"\n",
    "        This is the function called when doing the forward pass:\n",
    "        z, mu, logvar = VaeEncoder(X)\n",
    "        \"\"\"\n",
    "        h = self.features(x)\n",
    "        z, mu, logvar = self.bottleneck(h)\n",
    "        return z, mu, logvar"
   ]
  },
  {
   "cell_type": "markdown",
   "metadata": {
    "slideshow": {
     "slide_type": "slide"
    }
   },
   "source": [
    "#### <img src=\"https://img.icons8.com/dusk/64/000000/unlock-2.png\" style=\"height:30px;display:inline\"> Decoder\n",
    "---\n",
    "* The decoder takes a lower-dimensional latent space vector, $z \\in \\mathcal{R}^d$ and decodes it to a high-dimensional *reconstruction* data, $\\tilde{X} \\in \\mathcal{R}^D$ , that is, we model $p_{\\theta}(X|z)$. "
   ]
  },
  {
   "cell_type": "code",
   "execution_count": 4,
   "metadata": {
    "slideshow": {
     "slide_type": "subslide"
    }
   },
   "outputs": [],
   "source": [
    "# decoder - p_{\\theta}(x|z)\n",
    "class VaeDecoder(torch.nn.Module):\n",
    "    \"\"\"\n",
    "       This class builds the decoder for the VAE\n",
    "       :param x_dim: input dimensions\n",
    "       :param hidden_size: hidden layer size\n",
    "       :param z_dim: latent dimensions\n",
    "       \"\"\"\n",
    "\n",
    "    def __init__(self, x_dim=28*28, hidden_size=256, z_dim=10):\n",
    "        super(VaeDecoder, self).__init__()\n",
    "        self.x_dim = x_dim\n",
    "        self.hidden_size = hidden_size\n",
    "        self.z_dim = z_dim\n",
    "        \n",
    "        self.decoder = nn.Sequential(nn.Linear(self.z_dim, self.hidden_size),\n",
    "                                     nn.ReLU(),\n",
    "                                     nn.Linear(self.hidden_size, self.x_dim),\n",
    "                                     nn.Sigmoid())\n",
    "        # why we use sigmoid? becaue the pixel values of images are in [0,1] and sigmoid(x) does just that!\n",
    "        # however, you don't have to use that (see what happens without it).\n",
    "\n",
    "\n",
    "    def forward(self, x):\n",
    "        \"\"\"\n",
    "        This is the function called when doing the forward pass:\n",
    "        x_reconstruction = VaeDecoder(z)\n",
    "        \"\"\"\n",
    "        x = self.decoder(x)\n",
    "        return x"
   ]
  },
  {
   "cell_type": "markdown",
   "metadata": {
    "slideshow": {
     "slide_type": "slide"
    }
   },
   "source": [
    "#### <img src=\"https://img.icons8.com/officel/80/000000/avengers.png\" style=\"height:30px;display:inline\"> VAE, Assemble! (Putting It All Together)\n",
    "---\n",
    "We now want to have an end-to-end encoder-decoder model that does everything with one line of code, and we also want the ability to generate new samples (that is, sample a random vector from the unit normal distribution and decode it - without encoding!)."
   ]
  },
  {
   "cell_type": "code",
   "execution_count": 5,
   "metadata": {
    "slideshow": {
     "slide_type": "slide"
    }
   },
   "outputs": [],
   "source": [
    "class Vae(torch.nn.Module):\n",
    "    def __init__(self, x_dim=28*28, z_dim=10, hidden_size=256, device=torch.device(\"cpu\")):\n",
    "        super(Vae, self).__init__()\n",
    "        self.device = device\n",
    "        self.z_dim = z_dim\n",
    "\n",
    "        self.encoder = VaeEncoder(x_dim, hidden_size, z_dim=z_dim, device=device)\n",
    "        self.decoder = VaeDecoder(x_dim, hidden_size, z_dim=z_dim)\n",
    "\n",
    "    def encode(self, x):\n",
    "        z, mu, logvar = self.encoder(x)\n",
    "        return z, mu, logvar\n",
    "\n",
    "    def decode(self, z):\n",
    "        x = self.decoder(z)\n",
    "        return x\n",
    "\n",
    "    def sample(self, num_samples=1):\n",
    "        \"\"\"\n",
    "        This functions generates new data by sampling random variables and decoding them.\n",
    "        Vae.sample() actually generates new data!\n",
    "        Sample z ~ N(0,1)\n",
    "        \"\"\"\n",
    "        z = torch.randn(num_samples, self.z_dim).to(self.device)\n",
    "        return self.decode(z)\n",
    "\n",
    "    def forward(self, x):\n",
    "        \"\"\"\n",
    "        This is the function called when doing the forward pass:\n",
    "        return x_recon, mu, logvar, z = Vae(X)\n",
    "        \"\"\"\n",
    "        z, mu, logvar = self.encode(x)\n",
    "        x_recon = self.decode(z)\n",
    "        return x_recon, mu, logvar, z"
   ]
  },
  {
   "cell_type": "markdown",
   "metadata": {
    "slideshow": {
     "slide_type": "slide"
    }
   },
   "source": [
    "#### <img src=\"https://img.icons8.com/dusk/64/000000/bearish.png\" style=\"height:30px;display:inline\"> The Loss Function\n",
    "---\n",
    "The loss function is composed of the *reconstruction loss* and the *KL-divergence*: \n",
    "$$ \\mathcal{L}_{VAE} = -\\mathbb{E}_{q_{\\phi}(z|X)}[\\log p_{\\theta}(X|z)] + D_{KL}[q_{\\phi}(z|X)|| p(z)] = ReconLoss(\\tilde{x}, x) +  \\frac{1}{2}\\sum_{i=1}^d[\\Sigma(X)_{ii} +\\mu(X)_i^2 -1 -\\log \\Sigma(X)_{ii}]$$\n",
    "\n",
    "* **Reconstruction Loss**:\n",
    "    * For images, we will use <a href=\"https://ml-cheatsheet.readthedocs.io/en/latest/loss_functions.html#cross-entropy\">Binary Cross Entropy (BCE) </a>, as the values of the pixels are between [0,1] (normalized). There are other alternatives, like \"perceptual loss\", MSE or MAE (see below).\n",
    "    * For continuous inputs, we can use $L_1$ (MAE) or $L_2$ (MSE). "
   ]
  },
  {
   "cell_type": "code",
   "execution_count": 6,
   "metadata": {
    "slideshow": {
     "slide_type": "slide"
    }
   },
   "outputs": [],
   "source": [
    "def loss_function(recon_x, x, mu, logvar, loss_type='bce'):\n",
    "    \"\"\"\n",
    "    This function calculates the loss of the VAE.\n",
    "    loss = reconstruction_loss - 0.5 * sum(1 + log(sigma^2) - mu^2 - sigma^2)\n",
    "    :param recon_x: the reconstruction from the decoder\n",
    "    :param x: the original input\n",
    "    :param mu: the mean given X, from the encoder\n",
    "    :param logvar: the log-variance given X, from the encoder\n",
    "    :param loss_type: type of loss function - 'mse', 'l1', 'bce'\n",
    "    :return: VAE loss\n",
    "    \"\"\"\n",
    "    if loss_type == 'mse':\n",
    "        recon_error = F.mse_loss(recon_x, x, reduction='sum')\n",
    "    elif loss_type == 'l1':\n",
    "        recon_error = F.l1_loss(recon_x, x, reduction='sum')\n",
    "    elif loss_type == 'bce':\n",
    "        recon_error = F.binary_cross_entropy(recon_x, x, reduction='sum')\n",
    "    else:\n",
    "        raise NotImplementedError\n",
    "\n",
    "    # see Appendix B from VAE paper:\n",
    "    # Kingma and Welling. Auto-Encoding Variational Bayes. ICLR, 2014\n",
    "    # https://arxiv.org/abs/1312.6114\n",
    "    # 0.5 * sum(1 + log(sigma^2) - mu^2 - sigma^2)\n",
    "    kl = -0.5 * torch.sum(1 + logvar - mu.pow(2) - logvar.exp())\n",
    "    return (recon_error + kl) / x.size(0)  # normalize by batch_size"
   ]
  },
  {
   "cell_type": "markdown",
   "metadata": {
    "slideshow": {
     "slide_type": "slide"
    }
   },
   "source": [
    "### <img src=\"https://img.icons8.com/bubbles/50/000000/hand-with-pen.png\" style=\"height:50px;display:inline\"> Example - VAE On The MNIST Dataset\n",
    "----\n",
    "The MNIST database of handwritten digits has a training set of 60,000 examples, and a test set of 10,000 examples. It is a subset of a larger set available from NIST. The digits have been size-normalized and centered in a fixed-size image.\n",
    "We will now build the training loop of the VAE and learn an approximation to the hand-written digits distribution."
   ]
  },
  {
   "cell_type": "code",
   "execution_count": 7,
   "metadata": {
    "slideshow": {
     "slide_type": "subslide"
    }
   },
   "outputs": [],
   "source": [
    "# let's load the dataset and see some examples\n",
    "\n",
    "# in order to create batches of the data, we create a Dataset and a DataLoader, which takes care of:\n",
    "# 1. pre-processing the images to tensors with values in [0,1]\n",
    "# 2. shuffling the data, so we add randomness as learned in ML\n",
    "# 3. if the data size is not divisible by the batch size, we can drop the last batch \n",
    "# (so the batches are always of the same size)\n",
    "\n",
    "# define pre-procesing transformation to use\n",
    "transform = torchvision.transforms.ToTensor()\n",
    "\n",
    "train_data = torchvision.datasets.MNIST('./datasets/', train=True, transform=transform,\n",
    "                                        target_transform=None, download=True)\n",
    "test_data = torchvision.datasets.MNIST('./datasets/', train=False, transform=transform,\n",
    "                                       target_transform=None, download=True)\n",
    "\n",
    "\n",
    "\n",
    "sample_dataloader = DataLoader(train_data, batch_size=6, shuffle=True, drop_last=True)"
   ]
  },
  {
   "cell_type": "code",
   "execution_count": 8,
   "metadata": {
    "slideshow": {
     "slide_type": "subslide"
    }
   },
   "outputs": [
    {
     "data": {
      "image/png": "[encoded data removed]",
      "text/plain": [
       "<Figure size 576x360 with 6 Axes>"
      ]
     },
     "metadata": {
      "needs_background": "light"
     },
     "output_type": "display_data"
    }
   ],
   "source": [
    "fig = plt.figure(figsize=(8 ,5))\n",
    "samples, labels = next(iter(sample_dataloader))\n",
    "for i in range(samples.size(0)):\n",
    "    ax = fig.add_subplot(2, 3, i + 1)\n",
    "    ax.imshow(samples[i][0, :, :].data.cpu().numpy(), cmap='gray')\n",
    "    title = \"digit: \" + str(labels[i].data.cpu().item())\n",
    "    ax.set_title(title)\n",
    "    ax.set_axis_off()"
   ]
  },
  {
   "cell_type": "markdown",
   "metadata": {
    "slideshow": {
     "slide_type": "subslide"
    }
   },
   "source": [
    "#### <img src=\"https://img.icons8.com/dusk/50/000000/exercise.png\" style=\"height:30px;display:inline\"> The VAE Training Loop\n",
    "---\n",
    "We will now build the training loop of the VAE in PyTorch. Pay attention to the order of each function, it is very important in PyTorch."
   ]
  },
  {
   "cell_type": "code",
   "execution_count": 9,
   "metadata": {
    "slideshow": {
     "slide_type": "subslide"
    }
   },
   "outputs": [],
   "source": [
    "# define hyper-parameters\n",
    "BATCH_SIZE = 128  # usually 32/64/128/256\n",
    "LEARNING_RATE = 1e-3  # for the gradient optimizer\n",
    "NUM_EPOCHS = 150  # how many epochs to run?\n",
    "HIDDEN_SIZE = 256  # size of the hidden layers in the networks\n",
    "X_DIM = 28 * 28  # size of the input dimension\n",
    "Z_DIM = 10  # size of the latent dimension"
   ]
  },
  {
   "cell_type": "code",
   "execution_count": 10,
   "metadata": {
    "scrolled": true,
    "slideshow": {
     "slide_type": "slide"
    }
   },
   "outputs": [
    {
     "name": "stdout",
     "output_type": "stream",
     "text": [
      "running calculations on:  cuda:0\n",
      "epoch: 0 training loss: 171.84777 epoch time: 7.842 sec\n",
      "epoch: 1 training loss: 128.69239 epoch time: 7.625 sec\n",
      "epoch: 2 training loss: 122.78445 epoch time: 7.774 sec\n",
      "epoch: 3 training loss: 119.74014 epoch time: 7.808 sec\n",
      "epoch: 4 training loss: 117.81168 epoch time: 7.726 sec\n",
      "epoch: 5 training loss: 116.45555 epoch time: 7.780 sec\n",
      "epoch: 6 training loss: 115.35806 epoch time: 7.660 sec\n",
      "epoch: 7 training loss: 114.56222 epoch time: 7.645 sec\n",
      "epoch: 8 training loss: 113.82657 epoch time: 7.708 sec\n",
      "epoch: 9 training loss: 113.21288 epoch time: 7.673 sec\n",
      "epoch: 10 training loss: 112.67187 epoch time: 7.772 sec\n",
      "epoch: 11 training loss: 112.20706 epoch time: 7.669 sec\n",
      "epoch: 12 training loss: 111.83337 epoch time: 7.681 sec\n",
      "epoch: 13 training loss: 111.46434 epoch time: 7.642 sec\n",
      "epoch: 14 training loss: 111.14702 epoch time: 7.829 sec\n",
      "epoch: 15 training loss: 110.86055 epoch time: 7.660 sec\n",
      "epoch: 16 training loss: 110.57215 epoch time: 7.662 sec\n",
      "epoch: 17 training loss: 110.28147 epoch time: 7.639 sec\n",
      "epoch: 18 training loss: 110.04906 epoch time: 7.883 sec\n",
      "epoch: 19 training loss: 109.85175 epoch time: 7.645 sec\n",
      "epoch: 20 training loss: 109.66326 epoch time: 7.672 sec\n",
      "epoch: 21 training loss: 109.46986 epoch time: 7.629 sec\n",
      "epoch: 22 training loss: 109.28426 epoch time: 7.678 sec\n",
      "epoch: 23 training loss: 109.12090 epoch time: 7.636 sec\n",
      "epoch: 24 training loss: 108.94051 epoch time: 7.623 sec\n",
      "epoch: 25 training loss: 108.80147 epoch time: 7.698 sec\n",
      "epoch: 26 training loss: 108.66099 epoch time: 7.756 sec\n",
      "epoch: 27 training loss: 108.53297 epoch time: 7.658 sec\n",
      "epoch: 28 training loss: 108.42440 epoch time: 7.610 sec\n",
      "epoch: 29 training loss: 108.30579 epoch time: 7.680 sec\n",
      "epoch: 30 training loss: 108.18119 epoch time: 7.617 sec\n",
      "epoch: 31 training loss: 108.06430 epoch time: 7.724 sec\n",
      "epoch: 32 training loss: 107.97036 epoch time: 7.636 sec\n",
      "epoch: 33 training loss: 107.86317 epoch time: 8.004 sec\n",
      "epoch: 34 training loss: 107.78109 epoch time: 7.914 sec\n",
      "epoch: 35 training loss: 107.68400 epoch time: 7.731 sec\n",
      "epoch: 36 training loss: 107.61546 epoch time: 7.759 sec\n",
      "epoch: 37 training loss: 107.50388 epoch time: 7.813 sec\n",
      "epoch: 38 training loss: 107.44395 epoch time: 7.651 sec\n",
      "epoch: 39 training loss: 107.34560 epoch time: 7.745 sec\n",
      "epoch: 40 training loss: 107.27498 epoch time: 8.247 sec\n",
      "epoch: 41 training loss: 107.20559 epoch time: 8.170 sec\n",
      "epoch: 42 training loss: 107.14346 epoch time: 8.016 sec\n",
      "epoch: 43 training loss: 107.07263 epoch time: 8.166 sec\n",
      "epoch: 44 training loss: 107.01250 epoch time: 7.900 sec\n",
      "epoch: 45 training loss: 106.96018 epoch time: 7.876 sec\n",
      "epoch: 46 training loss: 106.90081 epoch time: 7.882 sec\n",
      "epoch: 47 training loss: 106.84647 epoch time: 7.771 sec\n",
      "epoch: 48 training loss: 106.79369 epoch time: 8.149 sec\n",
      "epoch: 49 training loss: 106.70217 epoch time: 8.143 sec\n",
      "epoch: 50 training loss: 106.66743 epoch time: 8.199 sec\n",
      "epoch: 51 training loss: 106.60985 epoch time: 7.750 sec\n",
      "epoch: 52 training loss: 106.57071 epoch time: 7.985 sec\n",
      "epoch: 53 training loss: 106.51574 epoch time: 8.312 sec\n",
      "epoch: 54 training loss: 106.48122 epoch time: 8.811 sec\n",
      "epoch: 55 training loss: 106.44102 epoch time: 9.061 sec\n",
      "epoch: 56 training loss: 106.40275 epoch time: 13.830 sec\n",
      "epoch: 57 training loss: 106.31404 epoch time: 8.314 sec\n",
      "epoch: 58 training loss: 106.26953 epoch time: 8.260 sec\n",
      "epoch: 59 training loss: 106.24339 epoch time: 7.720 sec\n",
      "epoch: 60 training loss: 106.21802 epoch time: 7.762 sec\n",
      "epoch: 61 training loss: 106.16079 epoch time: 7.869 sec\n",
      "epoch: 62 training loss: 106.15153 epoch time: 7.929 sec\n",
      "epoch: 63 training loss: 106.11558 epoch time: 8.092 sec\n",
      "epoch: 64 training loss: 106.05807 epoch time: 8.271 sec\n",
      "epoch: 65 training loss: 106.07709 epoch time: 8.422 sec\n",
      "epoch: 66 training loss: 106.01839 epoch time: 8.946 sec\n",
      "epoch: 67 training loss: 105.93994 epoch time: 8.047 sec\n",
      "epoch: 68 training loss: 105.92013 epoch time: 8.151 sec\n",
      "epoch: 69 training loss: 105.90470 epoch time: 8.121 sec\n",
      "epoch: 70 training loss: 105.83137 epoch time: 8.442 sec\n",
      "epoch: 71 training loss: 105.84895 epoch time: 8.035 sec\n",
      "epoch: 72 training loss: 105.80781 epoch time: 7.754 sec\n",
      "epoch: 73 training loss: 105.78372 epoch time: 7.860 sec\n",
      "epoch: 74 training loss: 105.75193 epoch time: 8.152 sec\n",
      "epoch: 75 training loss: 105.74861 epoch time: 7.931 sec\n",
      "epoch: 76 training loss: 105.72887 epoch time: 7.948 sec\n",
      "epoch: 77 training loss: 105.67473 epoch time: 7.935 sec\n",
      "epoch: 78 training loss: 105.66093 epoch time: 7.891 sec\n",
      "epoch: 79 training loss: 105.60130 epoch time: 7.673 sec\n",
      "epoch: 80 training loss: 105.63635 epoch time: 7.712 sec\n",
      "epoch: 81 training loss: 105.53343 epoch time: 7.683 sec\n",
      "epoch: 82 training loss: 105.53965 epoch time: 8.461 sec\n",
      "epoch: 83 training loss: 105.54196 epoch time: 7.819 sec\n",
      "epoch: 84 training loss: 105.48760 epoch time: 7.793 sec\n",
      "epoch: 85 training loss: 105.46871 epoch time: 7.776 sec\n",
      "epoch: 86 training loss: 105.44570 epoch time: 7.801 sec\n",
      "epoch: 87 training loss: 105.42324 epoch time: 7.864 sec\n",
      "epoch: 88 training loss: 105.40410 epoch time: 8.129 sec\n",
      "epoch: 89 training loss: 105.41238 epoch time: 7.855 sec\n",
      "epoch: 90 training loss: 105.36060 epoch time: 7.779 sec\n",
      "epoch: 91 training loss: 105.34268 epoch time: 7.679 sec\n",
      "epoch: 92 training loss: 105.33472 epoch time: 7.725 sec\n",
      "epoch: 93 training loss: 105.31941 epoch time: 7.680 sec\n",
      "epoch: 94 training loss: 105.25264 epoch time: 8.079 sec\n",
      "epoch: 95 training loss: 105.25664 epoch time: 7.830 sec\n",
      "epoch: 96 training loss: 105.23884 epoch time: 7.729 sec\n",
      "epoch: 97 training loss: 105.24771 epoch time: 7.838 sec\n",
      "epoch: 98 training loss: 105.18528 epoch time: 7.851 sec\n",
      "epoch: 99 training loss: 105.17426 epoch time: 7.761 sec\n",
      "epoch: 100 training loss: 105.16605 epoch time: 7.840 sec\n",
      "epoch: 101 training loss: 105.17681 epoch time: 7.814 sec\n",
      "epoch: 102 training loss: 105.13540 epoch time: 7.704 sec\n",
      "epoch: 103 training loss: 105.11075 epoch time: 7.695 sec\n",
      "epoch: 104 training loss: 105.10130 epoch time: 7.815 sec\n",
      "epoch: 105 training loss: 105.04798 epoch time: 7.683 sec\n",
      "epoch: 106 training loss: 105.04240 epoch time: 7.764 sec\n",
      "epoch: 107 training loss: 105.08118 epoch time: 7.655 sec\n",
      "epoch: 108 training loss: 105.01203 epoch time: 7.728 sec\n",
      "epoch: 109 training loss: 104.99548 epoch time: 7.885 sec\n",
      "epoch: 110 training loss: 104.96709 epoch time: 7.770 sec\n",
      "epoch: 111 training loss: 104.96980 epoch time: 7.729 sec\n",
      "epoch: 112 training loss: 104.97029 epoch time: 7.729 sec\n",
      "epoch: 113 training loss: 104.94572 epoch time: 7.780 sec\n",
      "epoch: 114 training loss: 104.93574 epoch time: 7.658 sec\n",
      "epoch: 115 training loss: 104.91825 epoch time: 7.704 sec\n",
      "epoch: 116 training loss: 104.90452 epoch time: 7.692 sec\n",
      "epoch: 117 training loss: 104.89628 epoch time: 7.758 sec\n",
      "epoch: 118 training loss: 104.84048 epoch time: 7.668 sec\n",
      "epoch: 119 training loss: 104.82133 epoch time: 7.742 sec\n",
      "epoch: 120 training loss: 104.82935 epoch time: 7.649 sec\n",
      "epoch: 121 training loss: 104.81333 epoch time: 7.725 sec\n",
      "epoch: 122 training loss: 104.78670 epoch time: 7.676 sec\n",
      "epoch: 123 training loss: 104.76939 epoch time: 7.726 sec\n",
      "epoch: 124 training loss: 104.78630 epoch time: 7.681 sec\n",
      "epoch: 125 training loss: 104.75781 epoch time: 7.750 sec\n",
      "epoch: 126 training loss: 104.75630 epoch time: 7.681 sec\n",
      "epoch: 127 training loss: 104.71424 epoch time: 7.722 sec\n",
      "epoch: 128 training loss: 104.73129 epoch time: 7.672 sec\n",
      "epoch: 129 training loss: 104.69816 epoch time: 7.737 sec\n",
      "epoch: 130 training loss: 104.70272 epoch time: 7.648 sec\n",
      "epoch: 131 training loss: 104.70613 epoch time: 7.715 sec\n",
      "epoch: 132 training loss: 104.68254 epoch time: 7.672 sec\n",
      "epoch: 133 training loss: 104.63357 epoch time: 7.705 sec\n",
      "epoch: 134 training loss: 104.65751 epoch time: 7.660 sec\n",
      "epoch: 135 training loss: 104.62752 epoch time: 7.688 sec\n",
      "epoch: 136 training loss: 104.60925 epoch time: 7.667 sec\n",
      "epoch: 137 training loss: 104.59311 epoch time: 7.662 sec\n",
      "epoch: 138 training loss: 104.59436 epoch time: 7.700 sec\n",
      "epoch: 139 training loss: 104.60375 epoch time: 7.678 sec\n",
      "epoch: 140 training loss: 104.54786 epoch time: 7.988 sec\n",
      "epoch: 141 training loss: 104.56324 epoch time: 8.464 sec\n",
      "epoch: 142 training loss: 104.56199 epoch time: 7.915 sec\n",
      "epoch: 143 training loss: 104.51522 epoch time: 7.674 sec\n",
      "epoch: 144 training loss: 104.53867 epoch time: 7.713 sec\n",
      "epoch: 145 training loss: 104.51754 epoch time: 7.674 sec\n",
      "epoch: 146 training loss: 104.47265 epoch time: 7.698 sec\n",
      "epoch: 147 training loss: 104.48947 epoch time: 7.657 sec\n",
      "epoch: 148 training loss: 104.52602 epoch time: 7.701 sec\n",
      "epoch: 149 training loss: 104.47982 epoch time: 8.150 sec\n"
     ]
    }
   ],
   "source": [
    "# training\n",
    "\n",
    "# check if there is gpu avilable, if there is, use it\n",
    "if torch.cuda.is_available():\n",
    "    torch.cuda.current_device()\n",
    "device = torch.device(\"cuda:0\" if torch.cuda.is_available() else \"cpu\")\n",
    "# device = torch.device(\"cpu\")\n",
    "print(\"running calculations on: \", device)\n",
    "\n",
    "# load the data\n",
    "dataloader = DataLoader(train_data, batch_size=BATCH_SIZE, shuffle=True, drop_last=True)\n",
    "\n",
    "# create our model and send it to the device (cpu/gpu)\n",
    "\n",
    "vae = Vae(x_dim=X_DIM, z_dim=Z_DIM, hidden_size=HIDDEN_SIZE, device=device).to(device)\n",
    "\n",
    "# optimizer \n",
    "vae_optim = torch.optim.Adam(params=vae.parameters(), lr=LEARNING_RATE)\n",
    "\n",
    "# save the losses from each epoch, we might want to plot it later\n",
    "train_losses = []\n",
    "\n",
    "# here we go\n",
    "for epoch in range(NUM_EPOCHS):\n",
    "    epoch_start_time = time.time()\n",
    "    batch_losses = []\n",
    "    for batch_i, batch in enumerate(dataloader):\n",
    "        # forward pass\n",
    "        x = batch[0].to(device).view(-1, X_DIM)  # just the images\n",
    "        x_recon, mu, logvar, z = vae(x)\n",
    "        # calculate the loss\n",
    "        loss = loss_function(x_recon, x, mu, logvar, loss_type='bce')\n",
    "        # optimization (same 3 steps everytime)\n",
    "        vae_optim.zero_grad()\n",
    "        loss.backward()\n",
    "        vae_optim.step()\n",
    "        # save loss\n",
    "        batch_losses.append(loss.data.cpu().item())\n",
    "    train_losses.append(np.mean(batch_losses))\n",
    "    print(\"epoch: {} training loss: {:.5f} epoch time: {:.3f} sec\".format(epoch, train_losses[-1],\n",
    "                                                                          time.time() - epoch_start_time))"
   ]
  },
  {
   "cell_type": "code",
   "execution_count": 11,
   "metadata": {
    "slideshow": {
     "slide_type": "subslide"
    }
   },
   "outputs": [
    {
     "name": "stdout",
     "output_type": "stream",
     "text": [
      "saved checkpoint @ ./vae_mnist_150_epochs.pth\n"
     ]
    }
   ],
   "source": [
    "# saving our model (so we don't have to train it again...)\n",
    "# this is one of the greatest things in pytorch - saving and loading models\n",
    "\n",
    "# save\n",
    "fname = \"./vae_mnist_\" + str(NUM_EPOCHS) + \"_epochs.pth\"\n",
    "torch.save(vae.state_dict(), fname)\n",
    "print(\"saved checkpoint @\", fname)"
   ]
  },
  {
   "cell_type": "code",
   "execution_count": 16,
   "metadata": {
    "slideshow": {
     "slide_type": "subslide"
    }
   },
   "outputs": [
    {
     "name": "stdout",
     "output_type": "stream",
     "text": [
      "loaded checkpoint from ./vae_mnist_150_epochs.pth\n"
     ]
    }
   ],
   "source": [
    "# load\n",
    "vae = Vae(x_dim=X_DIM, z_dim=Z_DIM, hidden_size=HIDDEN_SIZE, device=device).to(device)\n",
    "vae.load_state_dict(torch.load(fname))\n",
    "print(\"loaded checkpoint from\", fname)"
   ]
  },
  {
   "cell_type": "code",
   "execution_count": 20,
   "metadata": {
    "slideshow": {
     "slide_type": "subslide"
    }
   },
   "outputs": [
    {
     "data": {
      "image/png": "[encoded data removed]",
      "text/plain": [
       "<Figure size 576x360 with 6 Axes>"
      ]
     },
     "metadata": {
      "needs_background": "light"
     },
     "output_type": "display_data"
    }
   ],
   "source": [
    "# now let's sample from the vae\n",
    "n_samples = 6\n",
    "vae_samples = vae.sample(num_samples=n_samples).view(n_samples, 28, 28).data.cpu().numpy()\n",
    "fig = plt.figure(figsize=(8 ,5))\n",
    "for i in range(vae_samples.shape[0]):\n",
    "    ax = fig.add_subplot(2, 3, i + 1)\n",
    "    ax.imshow(vae_samples[i], cmap='gray')\n",
    "    ax.set_axis_off()"
   ]
  },
  {
   "cell_type": "markdown",
   "metadata": {
    "slideshow": {
     "slide_type": "slide"
    }
   },
   "source": [
    "#### <img src=\"https://img.icons8.com/officel/80/000000/one-way-transition.png\" style=\"height:30px;display:inline\"> Interpolation in the Latent Space\n",
    "---\n",
    "Let's have some fun!\n",
    "\n",
    "We will take two images, encode them using our VAE and by doing interpolation: $$ z_{new} = \\alpha z_1 + (1-\\alpha) z_2, \\alpha \\in [0,1] $$ we will see the transition between the 2 images."
   ]
  },
  {
   "cell_type": "code",
   "execution_count": 21,
   "metadata": {
    "slideshow": {
     "slide_type": "subslide"
    }
   },
   "outputs": [
    {
     "data": {
      "image/png": "[encoded data removed]",
      "text/plain": [
       "<Figure size 1080x576 with 10 Axes>"
      ]
     },
     "metadata": {
      "needs_background": "light"
     },
     "output_type": "display_data"
    }
   ],
   "source": [
    "# let's do something fun - interpolation of the latent space\n",
    "alphas = np.linspace(0.1, 1, 10)\n",
    "# take 2 samples\n",
    "sample_dataloader = DataLoader(test_data, batch_size=2, shuffle=True, drop_last=True)\n",
    "it = iter(sample_dataloader)\n",
    "samples, labels = next(it)\n",
    "while labels[0] == labels[1]:\n",
    "    # make sure they are different digits\n",
    "    samples, labels = next(it)\n",
    "x_1, x_2 = samples\n",
    "\n",
    "# get their latent representation\n",
    "_,_, _, z_1 = vae(x_1.view(-1, X_DIM).to(device))\n",
    "_,_, _, z_2 = vae(x_2.view(-1, X_DIM).to(device))\n",
    "\n",
    "# let's see the result\n",
    "fig = plt.figure(figsize=(15 ,8))\n",
    "for i, alpha in enumerate(alphas):\n",
    "    z_new = alpha * z_1 + (1 - alpha) * z_2\n",
    "    x_new = vae.decode(z_new)\n",
    "    ax = fig.add_subplot(1, 10, i + 1)\n",
    "    ax.imshow(x_new.view(28, 28).cpu().data.numpy(), cmap='gray')\n",
    "    ax.set_axis_off()"
   ]
  },
  {
   "cell_type": "markdown",
   "metadata": {
    "slideshow": {
     "slide_type": "slide"
    }
   },
   "source": [
    "#### <img src=\"https://img.icons8.com/color/96/000000/3d-glasses.png\" style=\"height:30px;display:inline\"> Latent Space Representation with t-SNE\n",
    "---\n",
    "Let's see how descriptive is the latent space. We will take 2000 images, decode them, and reduce their dimensionality with t-SNE."
   ]
  },
  {
   "cell_type": "code",
   "execution_count": 15,
   "metadata": {
    "slideshow": {
     "slide_type": "subslide"
    }
   },
   "outputs": [
    {
     "data": {
      "text/plain": [
       "Text(0.5, 1.0, 't-SNE of VAE Latent Space on MNIST')"
      ]
     },
     "execution_count": 15,
     "metadata": {},
     "output_type": "execute_result"
    },
    {
     "data": {
      "image/png": "[encoded data removed]",
      "text/plain": [
       "<Figure size 720x576 with 1 Axes>"
      ]
     },
     "metadata": {
      "needs_background": "light"
     },
     "output_type": "display_data"
    }
   ],
   "source": [
    "# take 2000 samples\n",
    "num_samples = 2000\n",
    "sample_dataloader = DataLoader(train_data, batch_size=num_samples, shuffle=True, drop_last=True)\n",
    "samples, labels = next(iter(sample_dataloader))\n",
    "\n",
    "labels = labels.data.cpu().numpy()\n",
    "# decode the samples\n",
    "_,_, _, z = vae(samples.view(num_samples, X_DIM).to(device))\n",
    "\n",
    "# t-SNE\n",
    "perplexity = 15.0\n",
    "t_sne = TSNE(n_components=2, perplexity=perplexity)\n",
    "z_embedded = t_sne.fit_transform(z.data.cpu().numpy())\n",
    "\n",
    "# plot\n",
    "fig = plt.figure(figsize=(10 ,8))\n",
    "ax = fig.add_subplot(1, 1, 1)\n",
    "for i in np.unique(labels):\n",
    "    ax.scatter(z_embedded[labels==i,0], z_embedded[labels==i, 1], label=str(i))\n",
    "ax.legend()\n",
    "ax.grid()\n",
    "ax.set_title(\"t-SNE of VAE Latent Space on MNIST\")"
   ]
  },
  {
   "cell_type": "markdown",
   "metadata": {
    "slideshow": {
     "slide_type": "slide"
    }
   },
   "source": [
    "### <img src=\"https://img.icons8.com/bubbles/50/000000/video-playlist.png\" style=\"height:50px;display:inline\"> Recommended Videos\n",
    "---\n",
    "#### <img src=\"https://img.icons8.com/cute-clipart/64/000000/warning-shield.png\" style=\"height:30px;display:inline\"> Warning!\n",
    "* These videos do not replace the lectures and tutorials.\n",
    "* Please use these to get a better understanding of the material, and not as an alternative to the written material.\n",
    "\n",
    "#### Video By Subject\n",
    "\n",
    "* Variational Inference (VI) - <a href=\"https://www.youtube.com/watch?v=2pEkWk-LHmU\">Machine Learning: Variational Inference</a>\n",
    "    * Until 13:30 mins\n",
    "* Analyzing the KL-Divergence in VI - <a href=\"https://www.youtube.com/watch?v=uKxtmkfeuxg\">Variational Inference Part 2 (KL divergence)</a>\n",
    "* Generative Models (VAEs + GANs) - <a href=\"https://www.youtube.com/watch?v=5WoItGTWV54\">Standord CS231n - Lecture 13 | Generative Models</a>"
   ]
  },
  {
   "cell_type": "markdown",
   "metadata": {
    "slideshow": {
     "slide_type": "skip"
    }
   },
   "source": [
    "## <img src=\"https://img.icons8.com/dusk/64/000000/prize.png\" style=\"height:50px;display:inline\"> Credits\n",
    "---\n",
    "* Deep Learning - Unsupervised Learning, <a href=\"https://www.cs.cmu.edu/~rsalakhu/talk_MLSS_part2.pdf\"> Tutorial by Ruslan Salakhutdinov (CMU) </a> - https://www.cs.cmu.edu/~rsalakhu/\n",
    "* <a href=\"https://sites.google.com/view/berkeley-cs294-158-sp19/home\"> CS294-158 Deep Unsupervised Learning Spring 2019 </a> @ UC Berkeley - https://sites.google.com/view/berkeley-cs294-158-sp19/home\n",
    "* <a href=\"https://jeremyjordan.me/variational-autoencoders/\"> Variational autoencoders. </a> by Jeremy Jordan - https://jeremyjordan.me\n",
    "* <a href=\"https://wiseodd.github.io/techblog/2016/12/10/variational-autoencoder/\">Variational Autoencoder: Intuition and Implementation </a> by Agustinus Kristiadi\n",
    "* Icons from <a href=\"https://icons8.com/\">Icon8.com</a> - https://icons8.com\n",
    "* Datasets from <a href=\"https://www.kaggle.com/\">Kaggle</a> - https://www.kaggle.com/"
   ]
  }
 ],
 "metadata": {
  "kernelspec": {
   "display_name": "Python 3",
   "language": "python",
   "name": "python3"
  },
  "language_info": {
   "codemirror_mode": {
    "name": "ipython",
    "version": 3
   },
   "file_extension": ".py",
   "mimetype": "text/x-python",
   "name": "python",
   "nbconvert_exporter": "python",
   "pygments_lexer": "ipython3",
   "version": "3.6.9"
  }
 },
 "nbformat": 4,
 "nbformat_minor": 2
}
